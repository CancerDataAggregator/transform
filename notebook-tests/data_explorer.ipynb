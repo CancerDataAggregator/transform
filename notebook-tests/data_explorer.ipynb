{
 "cells": [
  {
   "cell_type": "code",
   "execution_count": null,
   "id": "4b098399",
   "metadata": {},
   "outputs": [],
   "source": [
    "import json\n",
    "import gzip\n",
    "import jsonlines\n",
    "import yaml\n",
    "from cdapython import Q, columns, unique_terms, query\n",
    "Q.set_host_url(\"http://35.192.60.10:8080\")\n",
    "from collections import defaultdict"
   ]
  },
  {
   "cell_type": "code",
   "execution_count": null,
   "id": "a9740dbe",
   "metadata": {},
   "outputs": [],
   "source": [
    "import yaml\n",
    "from yaml import Loader\n",
    "from collections import defaultdict\n",
    "class data_query_validation:\n",
    "    def __init__(self, mapping_yaml) -> None:\n",
    "        # map of field name -> set of values\n",
    "        self.mapping_yaml = mapping_yaml\n",
    "        self.entity_fields = self._init_entity_fields()\n",
    "    def _init_entity_fields(self):\n",
    "        return_dict = {}\n",
    "        MandT = yaml.load(open(self.mapping_yaml, \"r\"), Loader=Loader)\n",
    "        for entity, MorT_dict in MandT.items():\n",
    "            return_dict[entity.replace('_merge','')] = MorT_dict['Mapping']\n",
    "        return return_dict\n",
    "    def two_matching_recs(self, recs, entity_name):\n",
    "        diffs = {}\n",
    "        same = True\n",
    "        rec_sources = list(recs.keys())\n",
    "        for field in self.entity_fields[entity_name]:\n",
    "            rec_compare = [recs[source].get(field) for source in rec_sources]\n",
    "            #type_of_compare = ''\n",
    "            for i in rec_compare:\n",
    "                if isinstance(rec_compare[0],list) and isinstance(rec_compare[1],list):\n",
    "                    if not isinstance(rec_compare[0][0],dict):\n",
    "                        rec_compare[0].sort()\n",
    "                        rec_compare[1].sort()\n",
    "                if rec_compare[0] != rec_compare[1]:\n",
    "                    if isinstance(rec_compare[1],int) and isinstance(rec_compare[0], str):\n",
    "                        if int(rec_compare[0])== rec_compare[1]:\n",
    "                            continue\n",
    "                    if None not in rec_compare:\n",
    "                        same = False\n",
    "                        diffs[field] = {rec_sources[0]:rec_compare[0],\n",
    "                                        rec_sources[1]:rec_compare[1]}\n",
    "        return same, diffs\n",
    "    def all_identical_dups(self, results_dict, entity_name):\n",
    "        # determines if all duplicate entities are identical\n",
    "        all_identical = True\n",
    "        all_diffs = defaultdict(list)\n",
    "        for idd, recs in results_dict.items():\n",
    "            for i in range(1, len(recs)):\n",
    "                same, diffs = self.two_matching_recs({0:recs[0], i:recs[i]}, entity_name)\n",
    "                if not same:\n",
    "                    all_identical = False\n",
    "                    all_diffs[idd].append(diffs)\n",
    "                else:\n",
    "                    all_diffs[idd].append(None)\n",
    "        return all_identical, all_diffs\n",
    "                    \n",
    "            \n",
    "    def two_matching_queries(self, data_file_results, query_results, entity):\n",
    "        df_ids = set([i['id'] for i in data_file_results])\n",
    "        qr_ids = set([i['id'] for i in query_results])\n",
    "        return_same_ids = len(df_ids) == len(qr_ids)\n",
    "        return_same_num_recs = len(data_file_results)==len(query_results)\n",
    "        dups_in_data_return = len(df_ids) == len(data_file_results)\n",
    "        dups_in_query_return = len(qr_ids) == len(query_results)\n",
    "        no_dups = dups_in_data_return and dups_in_query_return\n",
    "        missing_ids = []\n",
    "        added_ids = []\n",
    "        ids_w_diff_data = []\n",
    "        #Simple comparison - same ids and number of entities returned\n",
    "        if return_same_num_recs and return_same_ids and no_dups:\n",
    "            df_recs = {}\n",
    "            qr_recs = {}\n",
    "            for idd in df_ids:\n",
    "                for rec in data_file_results:\n",
    "                    if rec['id'] == idd:\n",
    "                        df_recs[idd] = rec\n",
    "                        #print('id: ' + idd)\n",
    "                        #print('age_at_diagnosis: ' + str(rec['age_at_diagnosis']))\n",
    "                        #print(type(rec['age_at_diagnosis']))\n",
    "                        break\n",
    "                for rec in query_results:\n",
    "                    if rec['id'] == idd:\n",
    "                        qr_recs[idd] = rec\n",
    "                        break\n",
    "                        \n",
    "                match, diffs = self.two_matching_recs({'query1': df_recs[idd], \n",
    "                                                       'query2': qr_recs[idd]}, entity)\n",
    "                if not match:\n",
    "                    print(idd)\n",
    "                    print(diffs)\n",
    "        #elif len(data_file_results) != len(query_results) and df_ids == qr_ids:\n",
    "            # There must be duplicates if distinct ids are the same.\n",
    "            # Reduce dups in longer file - check that data is the same for the dups\n",
    "            # If not then need to report that error as well.\n",
    "        else:\n",
    "            print('fucked')\n",
    "        return None\n",
    "    \n",
    "    def two_data_structs(self, struct1, struct2, total_structure):\n",
    "        entity_recs\n",
    "        for entity, tree in total_structure.items():\n",
    "            \n",
    "    def count_all_entities(self, q, print_dfs = False):\n",
    "        q_dict = {'Subjects': q.subject,\n",
    "                  'ResearchSubjects': q.researchsubject,\n",
    "                  'Specimens': q.specimen,\n",
    "                  'Diagnoses': q.diagnosis,\n",
    "                  'Treatments': q.treatment\n",
    "                 }\n",
    "        q_return = {}\n",
    "        for entity_name, q_call in q_dict.items():\n",
    "            q_return[entity_name]= q_call.count.run()\n",
    "        \n",
    "        if print_dfs:\n",
    "            for entity_name, q_call in q_return.items():\n",
    "                print(entity_name + ': ')\n",
    "                print(q_call)\n",
    "        return q_return\n",
    "        \n",
    "    def all_q_entities(self, q):\n",
    "        q_dict = {'Subjects': q.subject,\n",
    "                  'ResearchSubjects': q.researchsubject,\n",
    "                  'Specimens': q.specimen,\n",
    "                  'Diagnoses': q.diagnosis,\n",
    "                  'Treatments': q.treatment\n",
    "                 }\n",
    "        q_return = defaultdict(list)\n",
    "        for entity_name, q_call in q_dict.items():\n",
    "            for page in q_call.run().paginator():\n",
    "                q_return[entity_name].extend(page)\n",
    "            print(entity_name + \": \" + str(len(q_return[entity_name])))\n",
    "        return q_return\n",
    "    \n",
    "    def all_q_files(self, q):\n",
    "        qresults = defaultdict(list)\n",
    "        for page in q.subject.file.run().paginator():\n",
    "            qresults['Subject_Files'].extend(page)\n",
    "        for page in q.researchsubject.file.run().paginator():\n",
    "            qresults['ResearchSubject_Files'].extend(page)\n",
    "        for page in q.specimen.file.run().paginator():\n",
    "            qresults['Specimen_Files'].extend(page)\n",
    "        return qresults"
   ]
  },
  {
   "cell_type": "code",
   "execution_count": null,
   "id": "e0527934",
   "metadata": {},
   "outputs": [],
   "source": [
    "dqv = data_query_validation('../GDC_file_endpoint_mapping.yml')"
   ]
  },
  {
   "cell_type": "code",
   "execution_count": null,
   "id": "61f17a2d",
   "metadata": {},
   "outputs": [],
   "source": [
    "help(Q.count)"
   ]
  },
  {
   "cell_type": "code",
   "execution_count": null,
   "id": "d6e7493c",
   "metadata": {},
   "outputs": [],
   "source": [
    "help(Q.AND)\n",
    "help(Q.OR)\n",
    "help(Q.FROM)"
   ]
  },
  {
   "cell_type": "code",
   "execution_count": null,
   "id": "4289f26b",
   "metadata": {},
   "outputs": [],
   "source": [
    "def remove_dups(returned_dict):\n",
    "    specimens_copy = []\n",
    "    spec_seen = []\n",
    "    for specimen in returned_dict['Specimens']:\n",
    "        if specimen['id'] not in spec_seen:\n",
    "            specimens_copy.append(specimen)\n",
    "            spec_seen.append(specimen['id'])\n",
    "    returned_dict['Specimens'] = specimens_copy\n",
    "    returned_dict['Subject_Files'] = list(set(returned_dict['Subject_Files']))\n",
    "    returned_dict['ResearchSubject_Files'] = list(set(returned_dict['ResearchSubject_Files']))\n",
    "    returned_dict['Specimen_Files'] = list(set(returned_dict['Specimen_Files']))\n",
    "    return returned_dict\n",
    "def get_data_counts(returned_dict):\n",
    "    counts = {}\n",
    "    for entity_name, entity_recs in returned_dict.items():\n",
    "        #print(entity_name + \": \" + str(len(entity_recs)))\n",
    "        counts[entity_name] = len(entity_recs)\n",
    "    return counts\n",
    "def get_files_entities(returned_dict):\n",
    "    files_data_file = 'all_Files_3_0.jsonl.gz'\n",
    "    return_files = defaultdict(list)\n",
    "    with gzip.open(files_data_file, 'r') as subj:\n",
    "        reader = jsonlines.Reader(subj)\n",
    "        for file in reader:\n",
    "            if file['id'] in returned_dict['Subject_Files']:\n",
    "                return_files['Subject_Files'].append(file)\n",
    "                returned_dict['Subject_Files'].remove(file['id'])\n",
    "                if file['id'] in returned_dict['ResearchSubject_Files']:\n",
    "                    return_files['ResearchSubject_Files'].append(file)\n",
    "                    returned_dict['ResearchSubject_Files'].remove(file['id'])\n",
    "                    if file['id'] in returned_dict['Specimen_Files']:\n",
    "                        return_files['Specimen_Files'].append(file)\n",
    "                        returned_dict['Specimen_Files'].remove(file['id'])\n",
    "            if returned_dict['Subject_Files'] == []:\n",
    "                break\n",
    "    returned_dict.update(return_files)\n",
    "    return returned_dict"
   ]
  },
  {
   "cell_type": "code",
   "execution_count": null,
   "id": "e7c91200",
   "metadata": {},
   "outputs": [],
   "source": [
    "\n",
    "# WHERE\n",
    "#    (((UPPER(_ResearchSubject_Diagnosis.stage) = UPPER('Stage I'))\n",
    "#        OR (UPPER(_ResearchSubject_Diagnosis.stage) = UPPER('Stage II')))\n",
    "#      AND (UPPER(_ResearchSubject.primary_diagnosis_site) = UPPER('Kidney'))\n",
    "subjects_data_file = '../all_Subjects_3_0.jsonl.gz'\n",
    "returned_data = defaultdict(list)\n",
    "\n",
    "pass_all_filters = False\n",
    "with gzip.open(subjects_data_file, 'r') as subj:\n",
    "    reader = jsonlines.Reader(subj)\n",
    "    for subject in reader:\n",
    "        pass_all_filters = False\n",
    "        subj_pass_filters = False\n",
    "        for RS in subject.get('ResearchSubject'):\n",
    "            pass_all_filters = False\n",
    "            RS_filter = RS.get('primary_diagnosis_site')\n",
    "            if RS_filter is not None and  RS_filter.upper() == 'Kidney'.upper() and RS.get('Diagnosis') is not None:\n",
    "                for Diagnosis in RS.get('Diagnosis'):\n",
    "                    diag_stage = Diagnosis.get('stage')\n",
    "                    if diag_stage is not None and diag_stage.upper() in ['Stage I'.upper(), 'Stage II'.upper()]:\n",
    "                        pass_all_filters = True\n",
    "                        subj_pass_filters = True\n",
    "                        returned_data['Diagnoses'].append(Diagnosis)\n",
    "            if pass_all_filters and RS.get('Specimen',[]) is not None and RS.get('Specimen',[]) !=[]:\n",
    "                RS_specimens = RS.pop('Specimen')\n",
    "                returned_data['Specimens'].extend(RS_specimens)\n",
    "                for spec in RS_specimens:\n",
    "                    returned_data['Specimen_Files'].extend(spec.get('Files',[]))\n",
    "            if pass_all_filters:\n",
    "                returned_data['ResearchSubjects'].append(RS)\n",
    "                returned_data['ResearchSubject_Files'].extend(RS['Files'])\n",
    "        if subj_pass_filters:\n",
    "            returned_data['Subjects'].append(subject)\n",
    "            returned_data['Subject_Files'].extend(subject['Files'])\n"
   ]
  },
  {
   "cell_type": "code",
   "execution_count": null,
   "id": "42c5a7b9",
   "metadata": {},
   "outputs": [],
   "source": [
    "returned_data = remove_dups(returned_data)\n",
    "dcounts = get_data_counts(returned_data)\n",
    "print(dcounts)"
   ]
  },
  {
   "cell_type": "code",
   "execution_count": null,
   "id": "a0a34364",
   "metadata": {},
   "outputs": [],
   "source": [
    "returned_data = get_files_entities(returned_data)"
   ]
  },
  {
   "cell_type": "code",
   "execution_count": null,
   "id": "b5e3c409",
   "metadata": {},
   "outputs": [],
   "source": [
    "q1 = Q('ResearchSubject.Diagnosis.stage = \"Stage I\"')\n",
    "q2 = Q('ResearchSubject.Diagnosis.stage = \"Stage II\"')\n",
    "q3 = Q(\"ResearchSubject.primary_diagnosis_site = 'Kidney'\")\n",
    "q_diag = q1.OR(q2)\n",
    "q = q_diag.AND(q3)\n",
    "#qcounts = dqv.count_all_entities(q, print_dfs = True)"
   ]
  },
  {
   "cell_type": "code",
   "execution_count": null,
   "id": "4a88d6b8",
   "metadata": {},
   "outputs": [],
   "source": [
    "columns().to_list()"
   ]
  },
  {
   "cell_type": "code",
   "execution_count": null,
   "id": "dc0f9e4b",
   "metadata": {},
   "outputs": [],
   "source": [
    "qresults = dqv.all_q_entities(q)"
   ]
  },
  {
   "cell_type": "code",
   "execution_count": null,
   "id": "c2fdab38",
   "metadata": {},
   "outputs": [],
   "source": [
    "qresults['Subjects']"
   ]
  },
  {
   "cell_type": "code",
   "execution_count": null,
   "id": "92ad5d67",
   "metadata": {},
   "outputs": [],
   "source": [
    "qcounts = get_data_counts(qresults)\n",
    "print(qcounts)\n",
    "dcounts = get_data_counts(returned_data)\n",
    "print(dcounts)"
   ]
  },
  {
   "cell_type": "code",
   "execution_count": null,
   "id": "97cf935b",
   "metadata": {},
   "outputs": [],
   "source": [
    "qresults2 = qresults['Subjects'][0:4]\n",
    "dqv.two_matching_queries(qresults2, qresults['Subjects'], 'Patient')"
   ]
  },
  {
   "cell_type": "code",
   "execution_count": null,
   "id": "4746d6f8",
   "metadata": {},
   "outputs": [],
   "source": [
    "dqv.two_matching_queries(returned_data['ResearchSubjects'], qresults['ResearchSubjects'], 'ResearchSubject')"
   ]
  },
  {
   "cell_type": "code",
   "execution_count": null,
   "id": "52cdee33",
   "metadata": {},
   "outputs": [],
   "source": [
    "dqv.two_matching_queries(returned_data['Diagnoses'], qresults['Diagnoses'], 'Diagnosis')"
   ]
  },
  {
   "cell_type": "code",
   "execution_count": null,
   "id": "791e6fa5",
   "metadata": {},
   "outputs": [],
   "source": [
    "dqv.two_matching_queries(returned_data['Specimens'], qresults['Specimens'], 'Specimen')"
   ]
  },
  {
   "cell_type": "code",
   "execution_count": null,
   "id": "e61350c0",
   "metadata": {},
   "outputs": [],
   "source": [
    "dqv.two_matching_queries([], qresults['Treatments'], 'Treatment')"
   ]
  },
  {
   "cell_type": "code",
   "execution_count": null,
   "id": "b2d9d3dd",
   "metadata": {},
   "outputs": [],
   "source": [
    "qresults.update(dqv.all_q_files(q))"
   ]
  },
  {
   "cell_type": "code",
   "execution_count": null,
   "id": "81fcded9",
   "metadata": {},
   "outputs": [],
   "source": [
    "qrs_files=[]\n",
    "qrs_files_dict = defaultdict(list)\n",
    "for file in qresults['ResearchSubject_Files']:\n",
    "    if file['id'] not in qrs_files:\n",
    "        qrs_files_dict[file['id']].append(file)\n",
    "        qrs_files.append(file['id'])\n",
    "print(len(qrs_files))\n",
    "print(len(qresults['ResearchSubject_Files']))\n",
    "qrs_files_distinct = []\n",
    "for file_id, rec_lst in qrs_files_dict.items():\n",
    "    qrs_files_distinct.append(rec_lst[0])"
   ]
  },
  {
   "cell_type": "code",
   "execution_count": null,
   "id": "aa8d907b",
   "metadata": {},
   "outputs": [],
   "source": [
    "dqv.two_matching_queries(returned_data['ResearchSubject_Files'], qrs_files_distinct, 'File')"
   ]
  },
  {
   "cell_type": "code",
   "execution_count": null,
   "id": "bef74385",
   "metadata": {},
   "outputs": [],
   "source": [
    "qspec_files=[]\n",
    "qspec_files_dict = defaultdict(list)\n",
    "for file in qresults['Specimen_Files']:\n",
    "    if file['id'] not in qspec_files:\n",
    "        qspec_files_dict[file['id']].append(file)\n",
    "        qspec_files.append(file['id'])\n",
    "print(len(qspec_files))\n",
    "print(len(qresults['Specimen_Files']))\n",
    "qspec_files_distinct = []\n",
    "for file_id, rec_lst in qspec_files_dict.items():\n",
    "    qspec_files_distinct.append(rec_lst[0])"
   ]
  },
  {
   "cell_type": "code",
   "execution_count": null,
   "id": "579ef57e",
   "metadata": {},
   "outputs": [],
   "source": [
    "dqv.two_matching_queries(returned_data['Specimen_Files'], qspec_files_distinct, 'File')"
   ]
  },
  {
   "cell_type": "code",
   "execution_count": null,
   "id": "caa38e12",
   "metadata": {},
   "outputs": [],
   "source": [
    "#Usage test query 1 from ReadTheDocs\n",
    "#q1 = Q('ResearchSubject.Diagnosis.Treatment.treatment_type = \"Radiation Therapy, NOS\"')\n",
    "#q2 = Q('ResearchSubject.identifier.system = \"PDC\"')\n",
    "#q3 = Q('ResearchSubject.identifier.system = \"GDC\"')\n",
    "#q = q2.From(q1.And(q3))\n",
    "# Above query requires GDC Diagnosis Treatment type to be Radiation Therapy, NOS, but also have PDC information \n",
    "# At least that is how the query gets written. Funny enough PDC does not populate Treatment entities so another\n",
    "# filter requiring both PDC and GDC to have that info would give zero results.\n",
    "# Donovan's edit: I'm not sure yet. Keep as is?\n",
    "subjects_data_file = 'all_Subjects_3_0.jsonl.gz'\n",
    "returned_data = defaultdict(list)\n",
    "\n",
    "with gzip.open(subjects_data_file, 'r') as subj:\n",
    "    reader = jsonlines.Reader(subj)\n",
    "    for subject in reader:\n",
    "        pass_all_filters = False\n",
    "        subj_pass_filters = False\n",
    "        has_GDC_RS = False\n",
    "        has_PDC_RS = False\n",
    "        for RS in subject['ResearchSubject']:\n",
    "            RS_filter = RS['identifier']['system']\n",
    "            if RS_filter == 'GDC' and RS.get('Diagnosis') is not None:\n",
    "                for Diagnosis in RS.get('Diagnosis'):\n",
    "                    if Diagnosis.get('Treatment') is not None:\n",
    "                        for Treatment in Diagnosis.get('Treatment'):\n",
    "                            pass_all_filters = True\n",
    "                            subj_pass_filters = True\n",
    "                            break\n",
    "            if pass_all_filters and RS.get('Specimen',[]) is not None and RS.get('Specimen',[]) !=[]:\n",
    "                RS_specimens = RS.pop('Specimen')\n",
    "                specimens.extend(RS_specimens)\n",
    "                for spec in RS_specimens:\n",
    "                    specimen_files.extend(spec.get('Files',[]))\n",
    "            if pass_all_filters:\n",
    "                researchsubjects.append(RS)\n",
    "                rs_files.extend(RS['Files'])\n",
    "        if subj_pass_filters:\n",
    "            #subject.pop('ResearchSubject')\n",
    "            subjects.append(subject)\n",
    "            subject_files.extend(subject['Files'])\n",
    "\n"
   ]
  },
  {
   "cell_type": "code",
   "execution_count": null,
   "id": "7a9d588e",
   "metadata": {},
   "outputs": [],
   "source": [
    "# Usage test query 2\n",
    "#q1 = Q('ResearchSubject.associated_project = \"TCGA-BRCA\"')\n",
    "#q2 = Q('days_to_birth > -50*365')\n",
    "#q3 = Q('identifier.system = \"IDC\"')\n",
    "#q = q3.From(q1.And(q2))\n",
    "# Subject over 50, has an RS with project \"TCGA-BRCA\" ugh... IDC does not list project as TCGA-BRCA, but tcga_brca\n",
    "# I really need to be more vigilant with testing and writing these queries\n",
    "# Donovan's edit: change associated project to tcga_brca\n",
    "subjects = []\n",
    "subject_files = []\n",
    "researchsubjects = []\n",
    "rs_files = []\n",
    "specimens = []\n",
    "specimen_files = []\n",
    "\n",
    "with gzip.open(subjects_data_file, 'r') as subj:\n",
    "    reader = jsonlines.Reader(subj)\n",
    "    for subject in reader:\n",
    "        pass_all_filters = False\n",
    "        subj_pass_filters = False\n",
    "        #print(subject.get('days_to_birth', 0.0))\n",
    "        if subject.get('days_to_birth', 0.0) is not None and int(subject.get('days_to_birth', 0.0)) < -50*365:\n",
    "            for RS in subject['ResearchSubject']:\n",
    "                RS_filter = RS.get('member_of_research_project')\n",
    "                if RS_filter is not None and  RS_filter.upper() == 'tcga_brca'.upper():\n",
    "                    pass_all_filters = True\n",
    "                    subj_pass_filters = True\n",
    "                if pass_all_filters and RS.get('Specimen',[]) is not None and RS.get('Specimen',[]) !=[]:\n",
    "                    RS_specimens = RS.pop('Specimen')\n",
    "                    specimens.extend(RS_specimens)\n",
    "                    for spec in RS_specimens:\n",
    "                        specimen_files.extend(spec.get('Files',[]))\n",
    "                if pass_all_filters:\n",
    "                    researchsubjects.append(RS)\n",
    "                    rs_files.extend(RS['Files'])\n",
    "        if subj_pass_filters:\n",
    "            #subject.pop('ResearchSubject')\n",
    "            subjects.append(subject)\n",
    "            subject_files.extend(subject['Files'])\n",
    "\n"
   ]
  },
  {
   "cell_type": "code",
   "execution_count": null,
   "id": "a5db4abb",
   "metadata": {},
   "outputs": [],
   "source": [
    "# Remove duplicate Specimens - Cannot have duplicate RS or Subjects\n",
    "specimens_copy = []\n",
    "spec_seen = []\n",
    "ind = []\n",
    "for specimen in specimens:\n",
    "    if specimen['id'] not in spec_seen:\n",
    "        specimens_copy.append(specimen)\n",
    "subject_files = list(set(subject_files))\n",
    "rs_files = list(set(rs_files))\n",
    "specimen_files = list(set(specimen_files))"
   ]
  },
  {
   "cell_type": "code",
   "execution_count": null,
   "id": "0062fe4f",
   "metadata": {},
   "outputs": [],
   "source": [
    "print(len(subjects))\n",
    "print(len(researchsubjects))\n",
    "print(len(specimens_copy))\n",
    "print(len(subject_files))\n",
    "print(len(rs_files))\n",
    "print(len(specimen_files))"
   ]
  },
  {
   "cell_type": "code",
   "execution_count": null,
   "id": "d1579e5d",
   "metadata": {},
   "outputs": [],
   "source": [
    "#Find data from patients with lung cancer under 45 years, \n",
    "# males with no smoking exposure with Radiomic (CT, PET images) data, mass spec data, WES or WGS\n",
    "# Donovan's edit: We do not currently have exposures in our data model. \n",
    "#                 We can try to do the rest of the filters though.\n",
    "q1 = Q('days_to_birth > -50*365')\n",
    "\n",
    "qsub = q1.subjects()\n",
    "print(qsub)\n",
    "print(q1.to_json())"
   ]
  },
  {
   "cell_type": "code",
   "execution_count": null,
   "id": "30dcfd23",
   "metadata": {},
   "outputs": [],
   "source": [
    "#FInd RNA seq and proteomics data for patients under age 16 from tissue samples of the brain from CPTAC program.\n"
   ]
  },
  {
   "cell_type": "code",
   "execution_count": null,
   "id": "bee3355a",
   "metadata": {},
   "outputs": [],
   "source": [
    "#Find data for patients from TCGA-COAD with a Diagnosis of stage iii or greater and morphology 8140/3 across ethnicities."
   ]
  },
  {
   "cell_type": "code",
   "execution_count": null,
   "id": "47837777",
   "metadata": {},
   "outputs": [],
   "source": [
    "subjects_data_file = 'all_Subjects_3_0_w_RS.jsonl.gz'\n",
    "sample_case_mapping = defaultdict(list)\n",
    "#WHERE\n",
    "#    (((UPPER(_ResearchSubject_Diagnosis.stage) = UPPER('Stage I'))\n",
    "#        OR (UPPER(_ResearchSubject_Diagnosis.stage) = UPPER('Stage II')))\n",
    "#      AND (UPPER(_ResearchSubject.primary_diagnosis_site) = UPPER('Kidney'))\n",
    "pass_all_filters = False\n",
    "all_subjects_specimens = []\n",
    "with gzip.open(subjects_data_file, 'r') as subj:\n",
    "    reader = jsonlines.Reader(subj)\n",
    "    for subject in reader:\n",
    "        for RS in subject['ResearchSubject']:\n",
    "            for spec in RS.get('Specimen',[]):\n",
    "                if subject['id'] in sub_ids:\n",
    "                    all_subjects_specimens.append(spec)\n",
    "                sample_case_mapping[spec['id']].append(RS['id'])\n"
   ]
  },
  {
   "cell_type": "code",
   "execution_count": null,
   "id": "ac80ed29",
   "metadata": {},
   "outputs": [],
   "source": [
    "rs_specs = []\n",
    "for spec,cases in sample_case_mapping.items():\n",
    "    if len(cases) > 1:\n",
    "        print(sample_case_mapping[spec])\n",
    "    if cases[0] in rs_ids:\n",
    "        rs_specs.append(spec)"
   ]
  },
  {
   "cell_type": "code",
   "execution_count": null,
   "id": "08cb7fc2",
   "metadata": {},
   "outputs": [],
   "source": [
    "with gzip.open('IDC_V8_Subjects_Full.jsonl.gz', 'r') as subj:\n",
    "    reader = jsonlines.Reader(subj)\n",
    "    with gzip.open('IDC_V8_Subjects_Full_v2.jsonl.gz', 'w') as subj:\n",
    "        writer = jsonlines.Writer(subj)\n",
    "        for subject in reader:\n",
    "            for RS in subject['ResearchSubject']:\n",
    "                RS['File'] = subject['File']\n",
    "            writer.write(subject)"
   ]
  },
  {
   "cell_type": "code",
   "execution_count": null,
   "id": "70e87dc2",
   "metadata": {},
   "outputs": [],
   "source": [
    "with gzip.open('IDC_V8_Subjects_Full_v2.jsonl.gz', 'r') as subj:\n",
    "    reader = jsonlines.Reader(subj)\n",
    "    for subject in reader:\n",
    "        print(subject['ResearchSubject'])\n",
    "        break"
   ]
  },
  {
   "cell_type": "code",
   "execution_count": null,
   "id": "670f6867",
   "metadata": {},
   "outputs": [],
   "source": [
    "with gzip.open('gdc.all_cases.jsonl.gz', 'r') as subj:\n",
    "    reader = jsonlines.Reader(subj)\n",
    "    for subject in reader:\n",
    "        for spec in subject['samples']:\n",
    "            print(spec)\n",
    "            break\n",
    "        break"
   ]
  },
  {
   "cell_type": "code",
   "execution_count": null,
   "id": "f2fbaa5e",
   "metadata": {},
   "outputs": [],
   "source": [
    "with gzip.open('data/pdc.files-specimens-cases.json.gz', \"r\") as f_in:\n",
    "    files_per_sample_dict = json.load(f_in)\n",
    "specimen_w_out_files = {}\n",
    "for spec in files_per_sample_dict:\n",
    "    if files_per_sample_dict[spec] is None:\n",
    "        specimen_w_out_files[spec] = files_per_sample_dict[spec]\n",
    "print(len(specimen_w_out_files))"
   ]
  },
  {
   "cell_type": "code",
   "execution_count": null,
   "id": "b9a9f833",
   "metadata": {},
   "outputs": [],
   "source": [
    "#files_per_sample_dict['3b96e558-b060-48ec-a1d5-98554c53afc2']\n",
    "files_per_sample_dict['cecdcea4-7b7e-40fb-a013-e4db87604f67']"
   ]
  },
  {
   "cell_type": "code",
   "execution_count": null,
   "id": "d7bb84eb",
   "metadata": {},
   "outputs": [],
   "source": [
    "with open('gdc.all_cases.H.jsonl', 'r') as subj:\n",
    "    for subject in subj:\n",
    "        line = json.loads(subject)\n",
    "        print(line)\n",
    "        break"
   ]
  },
  {
   "cell_type": "code",
   "execution_count": null,
   "id": "da38f101",
   "metadata": {},
   "outputs": [],
   "source": []
  },
  {
   "cell_type": "code",
   "execution_count": null,
   "id": "ec232ff9",
   "metadata": {},
   "outputs": [],
   "source": [
    "type(line)"
   ]
  },
  {
   "cell_type": "code",
   "execution_count": null,
   "id": "1e03cc77",
   "metadata": {},
   "outputs": [],
   "source": [
    "lst = ['a', 'b', 'c']\n",
    "for i,j in enumerate(lst):\n",
    "    print(i)"
   ]
  },
  {
   "cell_type": "code",
   "execution_count": null,
   "id": "300d051e",
   "metadata": {},
   "outputs": [],
   "source": [
    "blah = {'a':1,'b':2}\n",
    "while len(blah)>0:\n",
    "    list(blah.keys())[0]\n",
    "    blah.pop(list(blah.keys())[0])\n",
    "blah"
   ]
  },
  {
   "cell_type": "code",
   "execution_count": null,
   "id": "a883ce51",
   "metadata": {},
   "outputs": [],
   "source": [
    "#blah.pop('b')\n",
    "blah\n",
    "len(blah)"
   ]
  },
  {
   "cell_type": "code",
   "execution_count": null,
   "id": "3d24c1b0",
   "metadata": {},
   "outputs": [],
   "source": [
    "count = 0\n",
    "seen_subjects = {}\n",
    "with gzip.open('test_merge_v2.jsonl.gz', 'r') as subj:\n",
    "    reader = jsonlines.Reader(subj)\n",
    "    for subject in reader:\n",
    "        count+=1\n",
    "        if subject['id'] in seen_subjects:\n",
    "            seen_subjects[subject['id']] += 1\n",
    "        else:\n",
    "            seen_subjects[subject['id']] = 1\n",
    "print(count)"
   ]
  },
  {
   "cell_type": "code",
   "execution_count": null,
   "id": "02ad9c99",
   "metadata": {},
   "outputs": [],
   "source": [
    "for key, val in seen_subjects.items():\n",
    "    if val > 1:\n",
    "        print(key)"
   ]
  },
  {
   "cell_type": "code",
   "execution_count": null,
   "id": "19061f47",
   "metadata": {},
   "outputs": [],
   "source": [
    "q1 = Q('ResearchSubject.primary_diagnosis_site = \"ovary\"')\n",
    "q1.subject.run()"
   ]
  },
  {
   "cell_type": "code",
   "execution_count": null,
   "id": "cf7791e9",
   "metadata": {},
   "outputs": [],
   "source": [
    "q1.research_subject.run()"
   ]
  },
  {
   "cell_type": "code",
   "execution_count": null,
   "id": "6f515c24",
   "metadata": {},
   "outputs": [],
   "source": [
    "q1.specimen.run(limit=1000)"
   ]
  },
  {
   "cell_type": "code",
   "execution_count": null,
   "id": "43341c30",
   "metadata": {},
   "outputs": [],
   "source": [
    "specs = q1.specimen.run(limit=1000)"
   ]
  },
  {
   "cell_type": "code",
   "execution_count": null,
   "id": "e9639a37",
   "metadata": {},
   "outputs": [],
   "source": [
    "spec_ids = []\n",
    "for page in specs.paginator():\n",
    "    for spec in page:\n",
    "        if spec['id'] not in spec_ids:\n",
    "            spec_ids.append(spec['id'])\n",
    "        else:\n",
    "            print(spec)"
   ]
  },
  {
   "cell_type": "code",
   "execution_count": null,
   "id": "e6187215",
   "metadata": {},
   "outputs": [],
   "source": [
    "print(len(spec_ids))\n",
    "print(len(set(spec_ids)))\n",
    "print(len(spec_seen))"
   ]
  },
  {
   "cell_type": "code",
   "execution_count": null,
   "id": "72f5dd5d",
   "metadata": {},
   "outputs": [],
   "source": [
    "subjects_data_file = 'all_Subjects_3_0_w_RS.jsonl.gz'\n",
    "returned_data = []\n",
    "subjects = []\n",
    "subject_files = []\n",
    "researchsubjects = []\n",
    "rs_files = []\n",
    "specimens = []\n",
    "specimen_files = []\n",
    "diagnoses = []\n",
    "with gzip.open(subjects_data_file, 'r') as subj:\n",
    "    reader = jsonlines.Reader(subj)\n",
    "    for subject in reader:\n",
    "        pass_all_filters = False\n",
    "        subj_pass_filters = False\n",
    "        for RS in subject['ResearchSubject']:\n",
    "            pass_all_filters = False\n",
    "            RS_filter = RS.get('primary_diagnosis_site')\n",
    "            if RS_filter is not None and  RS_filter.upper() == 'ovary'.upper():\n",
    "                pass_all_filters = True\n",
    "                subj_pass_filters = True\n",
    "                researchsubjects.append(RS)\n",
    "                specimens.extend(RS.get('Specimen',[]))\n",
    "                diagnoses.extend(RS.get('Diagnosis',[]))\n",
    "        if subj_pass_filters:\n",
    "            subject.pop('ResearchSubject')\n",
    "            subjects.append(subject)"
   ]
  },
  {
   "cell_type": "code",
   "execution_count": null,
   "id": "a21ab014",
   "metadata": {},
   "outputs": [],
   "source": [
    "specimens_copy = []\n",
    "spec_seen = []\n",
    "for specimen in specimens:\n",
    "    if specimen['id'] not in spec_seen:\n",
    "        specimens_copy.append(specimen)\n",
    "        spec_seen.append(specimen['id'])\n",
    "subject_files = list(set(subject_files))\n",
    "rs_files = list(set(rs_files))\n",
    "specimen_files = list(set(specimen_files))"
   ]
  },
  {
   "cell_type": "code",
   "execution_count": null,
   "id": "f2e08518",
   "metadata": {},
   "outputs": [],
   "source": [
    "print(len(specimens))"
   ]
  },
  {
   "cell_type": "code",
   "execution_count": null,
   "id": "14f382f6",
   "metadata": {},
   "outputs": [],
   "source": [
    "print(len(subjects))\n",
    "print(len(researchsubjects))\n",
    "print(len(diagnoses))\n",
    "print(len(specimens_copy))\n",
    "print(len(subject_files))\n",
    "print(len(rs_files))\n",
    "print(len(specimen_files))\n",
    "sub_ids = []\n",
    "for subject in subjects:\n",
    "    sub_ids.append(subject['id'])\n",
    "rs_ids = []\n",
    "for rs in researchsubjects:\n",
    "    rs_ids.append(rs['id'])"
   ]
  },
  {
   "cell_type": "code",
   "execution_count": null,
   "id": "90a697ff",
   "metadata": {},
   "outputs": [],
   "source": [
    "diff = spec_ids==spec_seen\n",
    "diff"
   ]
  },
  {
   "cell_type": "code",
   "execution_count": null,
   "id": "3e70dca5",
   "metadata": {},
   "outputs": [],
   "source": [
    "spec_seen[0]"
   ]
  },
  {
   "cell_type": "code",
   "execution_count": null,
   "id": "2707ad8a",
   "metadata": {},
   "outputs": [],
   "source": [
    "res = [x for x in spec_seen + spec_ids if x not in spec_seen or x not in spec_ids]\n",
    "res"
   ]
  },
  {
   "cell_type": "code",
   "execution_count": null,
   "id": "0e45782d",
   "metadata": {},
   "outputs": [],
   "source": [
    "if None in spec_ids:\n",
    "    print('why?!')"
   ]
  },
  {
   "cell_type": "code",
   "execution_count": null,
   "id": "ecc6eb6d",
   "metadata": {},
   "outputs": [],
   "source": [
    "spec_ids = []\n",
    "for page in specs.paginator():\n",
    "    for spec in page:\n",
    "        if spec['id'] is None:\n",
    "            print(spec)"
   ]
  },
  {
   "cell_type": "code",
   "execution_count": null,
   "id": "ce808b97",
   "metadata": {},
   "outputs": [],
   "source": [
    "q1 = Q('ResearchSubject.primary_diagnosis_site = \"ovary\"')\n",
    "q2 = Q('ResearchSubject.identifier.system = \"IDC\"')\n",
    "q = q1.And(q2)\n",
    "q.research_subject.run()"
   ]
  },
  {
   "cell_type": "code",
   "execution_count": null,
   "id": "5fe4c359",
   "metadata": {},
   "outputs": [],
   "source": [
    "q.specimen.run()"
   ]
  },
  {
   "cell_type": "code",
   "execution_count": null,
   "id": "ef5d3411",
   "metadata": {},
   "outputs": [],
   "source": [
    "q_uh_oh = q.specimen.run()\n",
    "q_uh_oh[0]"
   ]
  },
  {
   "cell_type": "code",
   "execution_count": null,
   "id": "6c7cd854",
   "metadata": {},
   "outputs": [],
   "source": [
    "qidcrs = q.research_subject.run()\n",
    "qidcrs[0]"
   ]
  },
  {
   "cell_type": "code",
   "execution_count": null,
   "id": "8f3d27ad",
   "metadata": {},
   "outputs": [],
   "source": [
    "count = 0\n",
    "seen_subjects = {}\n",
    "with gzip.open('IDC_V8_Subjects_Full_v2.jsonl.gz', 'r') as subj:\n",
    "    reader = jsonlines.Reader(subj)\n",
    "    for subject in reader:\n",
    "        count+=1\n",
    "        if subject['id'] in seen_subjects:\n",
    "            seen_subjects[subject['id']] += 1\n",
    "        else:\n",
    "            seen_subjects[subject['id']] = 1\n",
    "print(count)\n",
    "print(len(seen_subjects))"
   ]
  },
  {
   "cell_type": "code",
   "execution_count": null,
   "id": "febf1862",
   "metadata": {},
   "outputs": [],
   "source": [
    "count = 0\n",
    "seen_subjectsgdc = {}\n",
    "with gzip.open('gdc.all_cases.A.jsonl.gz', 'r') as subj:\n",
    "    reader = jsonlines.Reader(subj)\n",
    "    for subject in reader:\n",
    "        count+=1\n",
    "        if subject['id'] in seen_subjectsgdc:\n",
    "            seen_subjectsgdc[subject['id']] += 1\n",
    "        else:\n",
    "            seen_subjectsgdc[subject['id']] = 1\n",
    "print(count)\n",
    "print(len(seen_subjectsgdc))"
   ]
  },
  {
   "cell_type": "code",
   "execution_count": null,
   "id": "f7b4ea72",
   "metadata": {},
   "outputs": [],
   "source": [
    "count = 0\n",
    "seen_subjectspdc = {}\n",
    "with gzip.open('pdc.all_cases.A.jsonl.gz', 'r') as subj:\n",
    "    reader = jsonlines.Reader(subj)\n",
    "    for subject in reader:\n",
    "        count+=1\n",
    "        if subject['id'] in seen_subjectspdc:\n",
    "            seen_subjectspdc[subject['id']] += 1\n",
    "        else:\n",
    "            seen_subjectspdc[subject['id']] = 1\n",
    "print(count)\n",
    "print(len(seen_subjectspdc))"
   ]
  },
  {
   "cell_type": "code",
   "execution_count": null,
   "id": "8fdf9d16",
   "metadata": {},
   "outputs": [],
   "source": [
    "all_sub = []\n",
    "all_sub.extend(seen_subjects)\n",
    "all_sub.extend(seen_subjectsgdc)\n",
    "all_sub.extend(seen_subjectspdc)\n",
    "all_sub = set(all_sub)\n",
    "len(all_sub)"
   ]
  },
  {
   "cell_type": "code",
   "execution_count": null,
   "id": "6706d077",
   "metadata": {},
   "outputs": [],
   "source": [
    "for idd, count in seen_subjects.items():\n",
    "    if count>1:\n",
    "        print(idd)\n",
    "        break"
   ]
  },
  {
   "cell_type": "code",
   "execution_count": null,
   "id": "b09c458c",
   "metadata": {},
   "outputs": [],
   "source": [
    "count = 0\n",
    "seen_subjectsidc = {}\n",
    "with gzip.open('IDC_V8_Subjects_Full.jsonl.gz', 'r') as subj:\n",
    "    reader = jsonlines.Reader(subj)\n",
    "    for subject in reader:\n",
    "        count+=1\n",
    "        if subject['id'] in seen_subjectsidc:\n",
    "            seen_subjectsidc[subject['id']] += 1\n",
    "        else:\n",
    "            seen_subjectsidc[subject['id']] = 1\n",
    "print(count)\n",
    "print(len(seen_subjectsidc))"
   ]
  },
  {
   "cell_type": "code",
   "execution_count": null,
   "id": "416eeffe",
   "metadata": {},
   "outputs": [],
   "source": [
    "count = 0\n",
    "seen_subjectsidc_ = {}\n",
    "with gzip.open('idc_v8_Subjects_w_RS.jsonl.gz', 'r') as subj:\n",
    "    reader = jsonlines.Reader(subj)\n",
    "    for subject in reader:\n",
    "        count+=1\n",
    "        if subject['id'] in seen_subjectsidc_:\n",
    "            seen_subjectsidc_[subject['id']] += 1\n",
    "        else:\n",
    "            seen_subjectsidc_[subject['id']] = 1\n",
    "print(count)\n",
    "print(len(seen_subjectsidc_))"
   ]
  },
  {
   "cell_type": "code",
   "execution_count": null,
   "id": "6ae5ca1f",
   "metadata": {},
   "outputs": [],
   "source": [
    "for i in seen_subjectsidc_:\n",
    "    print(i)\n",
    "    break"
   ]
  },
  {
   "cell_type": "code",
   "execution_count": null,
   "id": "bf82faea",
   "metadata": {},
   "outputs": [],
   "source": [
    "count = 0\n",
    "seen_subjectsidc = {}\n",
    "with gzip.open('idc_v8_Subjects.jsonl.gz', 'r') as subj:\n",
    "    reader = jsonlines.Reader(subj)\n",
    "    with gzip.open('idc_v8_Subjects_v2.jsonl.gz', 'w') as subj_out:\n",
    "        writer = jsonlines.Writer(subj_out)\n",
    "        for subject in reader:\n",
    "            count+=1\n",
    "            if subject['id'] in seen_subjectsidc:\n",
    "                seen_subjectsidc[subject['id']] += 1\n",
    "            else:\n",
    "                seen_subjectsidc[subject['id']] = 1\n",
    "            for RS in subject['ResearchSubject']:\n",
    "                RS['File'] = subject['File']\n",
    "            writer.write(subject)\n",
    "print(count)\n",
    "print(len(seen_subjectsidc))"
   ]
  },
  {
   "cell_type": "code",
   "execution_count": null,
   "id": "a1aad8c6",
   "metadata": {},
   "outputs": [],
   "source": [
    "count = 0\n",
    "seen_subjectsidc = {}\n",
    "max_bit_size = 104857600\n",
    "import sys\n",
    "with gzip.open('../../Downloads/public_R3_gcp-merge2.jsonl (2).gz', 'r') as subj:\n",
    "    reader = jsonlines.Reader(subj)\n",
    "    break_all = False\n",
    "    for subject in reader:\n",
    "        line_size = sys.getsizeof(subject) + sys.getsizeof(subject['File'])\n",
    "        count += 1\n",
    "        for rsubject in subject['ResearchSubject']:\n",
    "            line_size += sys.getsizeof(rsubject) + sys.getsizeof(rsubject['File'])\n",
    "            if \"Specimen\" in rsubject:\n",
    "                for spec in rsubject['Specimen']:\n",
    "                    line_size += sys.getsizeof(spec) + sys.getsizeof(spec['File'])\n",
    "            if \"Diagnosis\" in rsubject:\n",
    "                for d in rsubject['Diagnosis']:\n",
    "                    line_size+=sys.getsizeof(d)\n",
    "        if count in [95823, 95824, 95825]:\n",
    "            print(subject['identifier'])\n",
    "            print('num files: ' + str(len(subject['File'])))\n",
    "            print(sys.getsizeof(subject))\n",
    "            print(sys.getsizeof(subject['File']))\n",
    "            print(line_size)\n",
    "        if count > 95825:\n",
    "            break"
   ]
  },
  {
   "cell_type": "code",
   "execution_count": null,
   "id": "ff5eb9b6",
   "metadata": {},
   "outputs": [],
   "source": [
    "def create_udf_str(func_desc):\n",
    "    var_list = ['x','y','z','a','b','c']\n",
    "    out = \"CREATE TEMP FUNCTION \"+ func_desc[0] + \"(\"\n",
    "    for var in range(len(func_desc[1])):\n",
    "        out += (var_list[var] + \" \" + func_desc[1][var])\n",
    "        if var == len(func_desc[1])-1:\n",
    "            out + \") RETURNS \"\n",
    "        else:\n",
    "            out += \", \"\n",
    "    out = out + func_desc[2][0] + \" AS (\"\n",
    "    if len(func_desc[1]) == 1:\n",
    "        out = out + func_desc[0]()\n",
    "    else:\n",
    "        out = out + func_desc[0](func_desc[1][1:])\n",
    "    out = out + \"); \"\n",
    "    return out\n",
    "func = ['name', ['string','string', 'string'], 'string']\n",
    "create_udf_str(func)"
   ]
  },
  {
   "cell_type": "code",
   "execution_count": null,
   "id": "ec60119d",
   "metadata": {},
   "outputs": [],
   "source": [
    "data_file = 'all_Files_3_0.jsonl.gz'\n",
    "with gzip.open(data_file, 'r') as subj:\n",
    "    reader = jsonlines.Reader(subj)\n",
    "    gdc = open('gdc_drs_uri.txt', 'w')\n",
    "    pdc = open('pdc_drs_uri.txt', 'w')\n",
    "    idc = open('idc_drs_uri.txt', 'w')\n",
    "    for subject in reader:\n",
    "        if subject['identifier'][0]['system'] == 'GDC':\n",
    "            gdc.write(subject['drs_uri'])\n",
    "            gdc.write( '\\n')\n",
    "        elif subject['identifier'][0]['system'] == 'PDC':\n",
    "            pdc.write(subject['drs_uri'])\n",
    "            pdc.write( '\\n')\n",
    "        elif subject['identifier'][0]['system'] == 'IDC':\n",
    "            idc.write(subject['drs_uri'])\n",
    "            idc.write( '\\n')"
   ]
  },
  {
   "cell_type": "code",
   "execution_count": null,
   "id": "7b1913b6",
   "metadata": {},
   "outputs": [],
   "source": [
    "red = ['a','b','c']\n",
    "with open('drs_uri.txt', 'w') as out:\n",
    "    for subject in red:\n",
    "        out.write(subject)\n",
    "        out.write( '\\n')"
   ]
  },
  {
   "cell_type": "code",
   "execution_count": null,
   "id": "0929da79",
   "metadata": {},
   "outputs": [],
   "source": [
    "subjects_data_file = 'gdc.all_cases.jsonl.gz'\n",
    "break_all = False\n",
    "with gzip.open(subjects_data_file, 'r') as subj:\n",
    "    reader = jsonlines.Reader(subj)\n",
    "    for subject in reader:\n",
    "        if subject['case_id'] == 'fef9c64f-5959-4da0-aaa2-66b56fc7b4c3':\n",
    "            for samp in subject['samples']:\n",
    "                for portion in samp['portions']:\n",
    "                    for analyte in portion['analytes']:\n",
    "                        if analyte['analyte_id'] =='e7224386-1bc6-4e96-afe5-7cac425ed3a9':\n",
    "                            print(portion['portion_id'])\n",
    "                            print(analyte)"
   ]
  },
  {
   "cell_type": "code",
   "execution_count": null,
   "id": "21f95758",
   "metadata": {},
   "outputs": [],
   "source": [
    "from cdatransform.transform.validate import LogValidation\n",
    "import logging"
   ]
  },
  {
   "cell_type": "code",
   "execution_count": null,
   "id": "6fb59a3f",
   "metadata": {},
   "outputs": [],
   "source": [
    "logger = logging.getLogger('data_explorer')\n",
    "logging.basicConfig(\n",
    "        filename='data_explorer.txt',\n",
    "        format=\"%(asctime)s %(levelname)-8s %(message)s\",\n",
    "        level=logging.INFO,\n",
    "    )\n",
    "\n",
    "validate = LogValidation()\n",
    "validate.agree_sources({'sub1': subjects[0], 'sub1.1': subjects[50]}, \n",
    "                       subjects[0]['id'],\n",
    "                       ['species', 'sex', 'race', 'ethnicity', 'days_to_birth',\n",
    "                        'vital_status',\n",
    "                        'age_at_death',\n",
    "                        'cause_of_death',])\n",
    "validate.generate_report(logger)"
   ]
  },
  {
   "cell_type": "code",
   "execution_count": null,
   "id": "ec5e3dc8",
   "metadata": {},
   "outputs": [],
   "source": [
    "subjects[50]"
   ]
  },
  {
   "cell_type": "code",
   "execution_count": null,
   "id": "f65cd4a2",
   "metadata": {},
   "outputs": [],
   "source": [
    "blah = data_query_validation('GDC_subject_endpoint_mapping.yml')"
   ]
  },
  {
   "cell_type": "code",
   "execution_count": null,
   "id": "0ba4f540",
   "metadata": {},
   "outputs": [],
   "source": [
    "results = blah.all_q_entities(q)"
   ]
  },
  {
   "cell_type": "code",
   "execution_count": null,
   "id": "134346db",
   "metadata": {},
   "outputs": [],
   "source": [
    "results.keys()"
   ]
  },
  {
   "cell_type": "code",
   "execution_count": null,
   "id": "819ec920",
   "metadata": {},
   "outputs": [],
   "source": [
    "counts = blah.count_all_entities(q, print_dfs = True)"
   ]
  },
  {
   "cell_type": "code",
   "execution_count": null,
   "id": "d63d6948",
   "metadata": {},
   "outputs": [],
   "source": [
    "same, diffs = blah.two_matching_recs({'data':subjects[0], 'query': subjects[1]}, 'Patient')\n",
    "same\n",
    "diffs"
   ]
  },
  {
   "cell_type": "code",
   "execution_count": null,
   "id": "6460bf21",
   "metadata": {
    "scrolled": true
   },
   "outputs": [],
   "source": [
    "blah.two_matching_queries(subjects, qsub, 'Patient')"
   ]
  },
  {
   "cell_type": "code",
   "execution_count": null,
   "id": "7dcde751",
   "metadata": {},
   "outputs": [],
   "source": [
    "q1 = Q('ResearchSubject.Diagnosis.stage = \"Stage I\"')\n",
    "q2 = Q('ResearchSubject.Diagnosis.stage = \"Stage II\"')\n",
    "q3 = Q(\"ResearchSubject.primary_diagnosis_site = 'Kidney'\")\n",
    "q_diag = q1.Or(q2)\n",
    "q = q_diag.And(q3)\n",
    "\n",
    "print(\"Subject\")\n",
    "qsub = q.subject.run()"
   ]
  },
  {
   "cell_type": "code",
   "execution_count": null,
   "id": "e8d7ec69",
   "metadata": {},
   "outputs": [],
   "source": [
    "qrs = q.researchsubject.run()"
   ]
  },
  {
   "cell_type": "code",
   "execution_count": null,
   "id": "f9f594c2",
   "metadata": {},
   "outputs": [],
   "source": [
    "blah.two_matching_queries(researchsubjects, qrs, 'ResearchSubject')"
   ]
  },
  {
   "cell_type": "code",
   "execution_count": null,
   "id": "acbb9910",
   "metadata": {},
   "outputs": [],
   "source": [
    "qspec = q.specimen.run()"
   ]
  },
  {
   "cell_type": "code",
   "execution_count": null,
   "id": "6239d2b3",
   "metadata": {},
   "outputs": [],
   "source": [
    "qspec = []\n",
    "for page in q.specimen.run().paginator():\n",
    "    qspec.extend(page)\n",
    "blah.two_matching_queries(specimens, qspec, 'Specimen')\n",
    "print(len(specimens))\n",
    "print(len(qspec))\n"
   ]
  },
  {
   "cell_type": "code",
   "execution_count": null,
   "id": "75f66f0b",
   "metadata": {},
   "outputs": [],
   "source": [
    "qdiag = q.diagnosis.run()"
   ]
  },
  {
   "cell_type": "code",
   "execution_count": null,
   "id": "4da00f27",
   "metadata": {},
   "outputs": [],
   "source": [
    "blah.two_matching_queries(diagnoses, qdiag, 'Diagnosis')"
   ]
  },
  {
   "cell_type": "code",
   "execution_count": null,
   "id": "e971d591",
   "metadata": {},
   "outputs": [],
   "source": [
    "s1 = {'a': [{'id': 'a', 'sex': 'male', 'race': 'w', 'subject_associated_project': ['q','r']},\n",
    "            {'id': 'a', 'sex': 'male', 'race': 'w', 'subject_associated_project': ['q','r']},\n",
    "            {'id': 'a', 'sex': 'female', 'race': 'w', 'subject_associated_project': ['q','s']}, \n",
    "            {'id': 'a', 'sex': 'Male', 'race': 'b', 'subject_associated_project': ['q','r']}],\n",
    "     'b': [{'id': 'a', 'sex': 'female', 'race': 'w', 'subject_associated_project': ['q','r']},\n",
    "            {'id': 'a', 'sex': 'female', 'race': 'w', 'subject_associated_project': ['q','r']},\n",
    "            {'id': 'a', 'sex': 'female', 'race': 'w', 'subject_associated_project': ['q','r']}, \n",
    "            {'id': 'a', 'sex': 'Male', 'race': 'b', 'subject_associated_project': ['q','r']}]}\n",
    "blah.all_identical_dups(s1, 'Patient')\n"
   ]
  },
  {
   "cell_type": "code",
   "execution_count": null,
   "id": "e8e9a0ab",
   "metadata": {},
   "outputs": [],
   "source": []
  },
  {
   "cell_type": "code",
   "execution_count": null,
   "id": "6414b2d3",
   "metadata": {},
   "outputs": [],
   "source": [
    "s1 = {'a': [{'id': 'a', 'sex': 'male', 'race': 'w'},\n",
    "            {'id': 'a', 'sex': 'male', 'race': 'w'},\n",
    "            {'id': 'a', 'sex': 'male', 'race': 'w'},\n",
    "            {'id': 'a', 'sex': 'male', 'race': 'w'}]}\n",
    "blah.all_identical_dups(s1, 'Patient')"
   ]
  },
  {
   "cell_type": "code",
   "execution_count": null,
   "id": "4879fa59",
   "metadata": {},
   "outputs": [],
   "source": [
    "q1 = Q('ResearchSubject.Diagnosis.stage = \"Stage I\"')\n",
    "q2 = Q('ResearchSubject.Diagnosis.stage = \"Stage II\"')\n",
    "q3 = Q(\"ResearchSubject.primary_diagnosis_site = 'Kidney'\")\n",
    "q_diag = q1.Or(q2)\n",
    "q = q_diag.And(q3)\n",
    "\n",
    "print(\"Subject\")\n",
    "qsub = q3.file.run()"
   ]
  },
  {
   "cell_type": "code",
   "execution_count": null,
   "id": "a6c92659",
   "metadata": {},
   "outputs": [],
   "source": [
    "qsub[0]"
   ]
  },
  {
   "cell_type": "code",
   "execution_count": null,
   "id": "653be5cc",
   "metadata": {},
   "outputs": [],
   "source": [
    "query_dict = defaultdict(list)\n",
    "for i in qsub:\n",
    "    query_dict[i['id']].append(i)"
   ]
  },
  {
   "cell_type": "code",
   "execution_count": null,
   "id": "7893dd4f",
   "metadata": {},
   "outputs": [],
   "source": [
    "len(query_dict)==len(qsub)\n",
    "print(len(query_dict))\n",
    "print(len(qsub))"
   ]
  },
  {
   "cell_type": "code",
   "execution_count": null,
   "id": "ecdb5076",
   "metadata": {},
   "outputs": [],
   "source": [
    "blahf = data_query_validation('GDC_file_endpoint_mapping.yml')\n",
    "blahf.all_identical_dups(query_dict, 'File')"
   ]
  },
  {
   "cell_type": "code",
   "execution_count": null,
   "id": "3269ac0c",
   "metadata": {},
   "outputs": [],
   "source": [
    "query_dict['ce1b271c-1a5a-450e-97a6-b223f5a6b4a8']"
   ]
  },
  {
   "cell_type": "code",
   "execution_count": null,
   "id": "095ddeec",
   "metadata": {},
   "outputs": [],
   "source": [
    "# WHERE\n",
    "#    (((UPPER(_ResearchSubject_Diagnosis.stage) = UPPER('Stage I'))\n",
    "#        OR (UPPER(_ResearchSubject_Diagnosis.stage) = UPPER('Stage II')))\n",
    "#      AND (UPPER(_ResearchSubject.primary_diagnosis_site) = UPPER('Kidney'))\n",
    "subjects_data_file = 'all_Subjects_3_0.jsonl.gz'\n",
    "returned_data = []\n",
    "subjects = []\n",
    "subject_files = []\n",
    "researchsubjects = []\n",
    "rs_files = []\n",
    "specimens = []\n",
    "specimen_files = []\n",
    "diagnoses = []\n",
    "filters_dict = {'Subject': \"Subject['id'] == 2\",\n",
    "               'ResearchSubject': \"ResearchSubject.get('primary_diagnosis')\"}\n",
    "\n",
    "def query_data_file(data_file, filters_dict)\n",
    "    returned_data = {'Subjects': [],\n",
    "                    'ResearchSubjects': [],\n",
    "                    'Diagnoses': [],\n",
    "                    'Treatments': [],\n",
    "                    'Specimens': [],\n",
    "                    'Subject_Files': [],\n",
    "                    'ResearchSubject_Files': [],\n",
    "                    'Specimen_Files': []}\n",
    "    \n",
    "    with gzip.open(data_file, 'r') as subj:\n",
    "        reader = jsonlines.Reader(subj)\n",
    "        for Subject in reader:\n",
    "            all_lower_filters = {'Subject': {'lower_filters': \n",
    "                                             {'ResearchSubject': False,\n",
    "                                            'Diagnosis': False,\n",
    "                                            'Treatment': False,\n",
    "                                            'Specimen': False},\n",
    "                                             'pass_lower': False,\n",
    "                                             'pass_entity': False,\n",
    "                                             \n",
    "                                            },\n",
    "                                 'ResearchSubject': {'lower_filters': \n",
    "                                             {'Diagnosis': False,\n",
    "                                            'Treatment': False,\n",
    "                                            'Specimen': False},\n",
    "                                             'pass_lower': False,\n",
    "                                             'pass_entity': False\n",
    "                                                     \n",
    "                                            },\n",
    "                                 'Diagnosis': {'lower_filters': \n",
    "                                             {'Treatment': False},\n",
    "                                             'pass_lower': False,\n",
    "                                             'pass_entity': False,  \n",
    "                                            },\n",
    "                                 'Treatment': {'pass_entity': False},\n",
    "                                 'Specimen': {'pass_entity': False}\n",
    "                                 \n",
    "                                }\n",
    "            if eval(filters_dict['Subject']):\n",
    "                subj_pass_filters = True\n",
    "                for ResearchSubject in Subject.get('ResearchSubject'):\n",
    "                    if eval(filters_dict['ResearchSubject'])\n",
    "                    pass_all_filters = False\n",
    "\n",
    "    pass_all_filters = False\n",
    "    with gzip.open(subjects_data_file, 'r') as subj:\n",
    "        reader = jsonlines.Reader(subj)\n",
    "        for subject in reader:\n",
    "            pass_all_filters = False\n",
    "            subj_pass_filters = False\n",
    "            for RS in subject.get('ResearchSubject'):\n",
    "                pass_all_filters = False\n",
    "                RS_filter = RS.get('primary_diagnosis_site')\n",
    "                if RS_filter is not None and  RS_filter.upper() == 'Kidney'.upper() and RS.get('Diagnosis') is not None:\n",
    "                    for Diagnosis in RS.get('Diagnosis'):\n",
    "                        if Diagnosis.get('id') == '5197ce2d-2c37-11ec-b712-0a4e2186f121':\n",
    "                            print(Diagnosis)\n",
    "                        diag_stage = Diagnosis.get('stage')\n",
    "                        if diag_stage is not None and diag_stage.upper() in ['Stage I'.upper(), 'Stage II'.upper()]:\n",
    "                            pass_all_filters = True\n",
    "                            subj_pass_filters = True\n",
    "                            #print(Diagnosis)\n",
    "                            diagnoses.append(Diagnosis)\n",
    "                            #\n",
    "                if pass_all_filters and RS.get('Specimen',[]) is not None and RS.get('Specimen',[]) !=[]:\n",
    "                    RS_specimens = RS.pop('Specimen')\n",
    "                    specimens.extend(RS_specimens)\n",
    "                    for spec in RS_specimens:\n",
    "                        specimen_files.extend(spec.get('Files',[]))\n",
    "                if pass_all_filters:\n",
    "                    researchsubjects.append(RS)\n",
    "                    rs_files.extend(RS['Files'])\n",
    "            if subj_pass_filters:\n",
    "                #subject.pop('ResearchSubject')\n",
    "                subjects.append(subject)\n",
    "                subject_files.extend(subject['Files'])"
   ]
  },
  {
   "cell_type": "code",
   "execution_count": null,
   "id": "dfd3f464",
   "metadata": {},
   "outputs": [],
   "source": [
    "filters_dict = {'Subject': \"\"\"Subject['id'] == 2\"\"\",\n",
    "               'ResearchSubject': \"ResearchSubject.get('primary_diagnosis')\"}\n",
    "samples = [{'id': 2, 'other': 'blah'}, {'id': 3, 'other': 'blah'}]\n",
    "ret = []\n",
    "for Subject in samples:\n",
    "    print(exec(filters_dict['Subject']))\n",
    "    if exec(filters_dict['Subject']):\n",
    "        ret.append(Subject)\n",
    "ret"
   ]
  },
  {
   "cell_type": "code",
   "execution_count": null,
   "id": "9280a2c0",
   "metadata": {},
   "outputs": [],
   "source": [
    "Subject = {'id': 2, 'other': 'blah'}\n",
    "print(type(filters_dict['Subject']))\n",
    "print(eval(filters_dict['Subject']))"
   ]
  },
  {
   "cell_type": "code",
   "execution_count": null,
   "id": "3dc131d4",
   "metadata": {},
   "outputs": [],
   "source": [
    "import pandas as pd"
   ]
  },
  {
   "cell_type": "code",
   "execution_count": null,
   "id": "4cd3e094",
   "metadata": {},
   "outputs": [],
   "source": [
    "data_file = 'all_Subjects_3_0.jsonl.gz'\n",
    "with gzip.open(data_file, 'r') as subj:\n",
    "    reader = jsonlines.Reader(subj)\n",
    "    for Subject in reader:\n",
    "        df = pd.json_normalize(Subject)\n",
    "        RS = pd.DataFrame()\n",
    "        for i in df['ResearchSubject'][0]:\n",
    "            RS = RS.append(pd.json_normalize(i))\n",
    "        break\n",
    "print(type(df))\n",
    "RS"
   ]
  },
  {
   "cell_type": "code",
   "execution_count": null,
   "id": "526697a9",
   "metadata": {},
   "outputs": [],
   "source": [
    "def _init_ccdh_field_mapping(cda_mapping_yaml, ccdh_mapping):\n",
    "    return_dict = {}\n",
    "    MandT = yaml.load(open(cda_mapping_yaml, \"r\"), Loader=Loader)\n",
    "    for entity, MorT_dict in MandT.items():\n",
    "        #return_dict[entity.replace('_merge','')] = MorT_dict['Mapping']\n",
    "        return_dict[entity] = {}\n",
    "        for field in MorT_dict['Mapping']:\n",
    "            if field in ccdh_mapping.get(entity,{}):\n",
    "                return_dict[entity][field] = ccdh_mapping[entity][field]\n",
    "            else:\n",
    "                return_dict[entity][field] = field\n",
    "    \n",
    "    return return_dict"
   ]
  },
  {
   "cell_type": "code",
   "execution_count": null,
   "id": "dd646178",
   "metadata": {},
   "outputs": [],
   "source": [
    "_init_ccdh_field_mapping('../GDC_file_endpoint_mapping.yml', {'File': {'data_category': 'file_category'}})"
   ]
  },
  {
   "cell_type": "code",
   "execution_count": null,
   "id": "6beef394",
   "metadata": {},
   "outputs": [],
   "source": [
    "with open('../cdatransform/load/ccdh_map.json', 'r') as f:\n",
    "    blah = json.load(f)"
   ]
  },
  {
   "cell_type": "code",
   "execution_count": null,
   "id": "46499419",
   "metadata": {},
   "outputs": [],
   "source": [
    "blah"
   ]
  },
  {
   "cell_type": "code",
   "execution_count": null,
   "id": "1dc933bc",
   "metadata": {},
   "outputs": [],
   "source": [
    "Q('ResearchSubject.primary_diagnosis_site IN (\"uterus\", \"uterus, NOS\")').researchsubject.count.run(show_sql=True)"
   ]
  },
  {
   "cell_type": "code",
   "execution_count": null,
   "id": "045bf9aa",
   "metadata": {},
   "outputs": [],
   "source": [
    "import gzip\n",
    "with gzip.open('../gdc.all_files.jsonl.gz','r') as cases:\n",
    "    reader = jsonlines.Reader(cases)\n",
    "    for file in reader:\n",
    "        print(file)\n",
    "        break\n",
    "        for rs in subject['Subject']:\n",
    "            for sample in rs.get('Specimen',[]):\n",
    "                if isinstance(sample['age_at_collection'],list):\n",
    "                    print('wtf')\n",
    "                    print(sample)\n",
    "\n",
    "        "
   ]
  },
  {
   "cell_type": "code",
   "execution_count": null,
   "id": "1415c316",
   "metadata": {},
   "outputs": [],
   "source": [
    "import yaml\n",
    "\n",
    "def csv_cleaner(val):\n",
    "    if isinstance(val,list):\n",
    "        return val[0]\n",
    "    elif val == 'NULL' or val is None:\n",
    "        return 'NOT CURRENTLY MAPPED'\n",
    "    elif val == 'files.NOT_APPLICABLE':\n",
    "        return 'NOT APPLICABLE'\n",
    "    else:\n",
    "        return val\n",
    "files_endpoints = {'GDC': '../GDC_file_endpoint_mapping.yml',\n",
    "                  'PDC': '../PDC_file_endpoint_mapping.yml',\n",
    "                  'IDC': '../IDC_mapping.yml'}\n",
    "subjects_endpoints = {'GDC': '../GDC_subject_endpoint_mapping.yml',\n",
    "                  'PDC': '../PDC_subject_endpoint_mapping.yml',\n",
    "                  'IDC': '../IDC_mapping.yml'}\n",
    "\n",
    "for DC in files_endpoints:\n",
    "    files_endpoints[DC] = yaml.load(open(files_endpoints[DC], \"r\"), Loader=Loader)\n",
    "for DC in subjects_endpoints:\n",
    "    subjects_endpoints[DC] = yaml.load(open(subjects_endpoints[DC], \"r\"), Loader=Loader)\n",
    "subjects_endpoints\n",
    "\n",
    "header = ['field']\n",
    "header.extend([dc for dc in list(files_endpoints.keys())])\n",
    "\n",
    "header\n",
    "files_csv = []\n",
    "ent_mapping = {}\n",
    "for entity in files_endpoints['GDC']:\n",
    "    ent_mapping[entity] = []\n",
    "    for field in files_endpoints['GDC'][entity]['Mapping']:\n",
    "        if field == 'identifier':\n",
    "            for val in files_endpoints['GDC'][entity]['Mapping'][field]:\n",
    "                row = {'field': '.'.join([field,val])}\n",
    "                for DC,mapping in files_endpoints.items():\n",
    "                    print(DC)\n",
    "                    print(mapping.get(entity,{}).get('Mapping',{}).get(field))\n",
    "                    row[DC] = csv_cleaner(mapping.get(entity,{}).get('Mapping',{}).get(field,{}).get(val))\n",
    "                ent_mapping[entity].append(row)\n",
    "        else:\n",
    "            row = {'field': field}\n",
    "            for DC,mapping in files_endpoints.items():\n",
    "                row[DC] = csv_cleaner(mapping.get(entity,{}).get('Mapping',{}).get(field))\n",
    "            ent_mapping[entity].append(row)\n",
    "ent_mapping"
   ]
  },
  {
   "cell_type": "code",
   "execution_count": null,
   "id": "8c9916b0",
   "metadata": {},
   "outputs": [],
   "source": [
    "import csv\n",
    "for entity in ent_mapping:\n",
    "    with open('files_csv/'+entity+'.csv', 'w') as csvfile:\n",
    "        writer = csv.DictWriter(csvfile, fieldnames = header)\n",
    "        writer.writeheader()\n",
    "        writer.writerows(ent_mapping[entity])"
   ]
  },
  {
   "cell_type": "code",
   "execution_count": null,
   "id": "bae7f67d",
   "metadata": {},
   "outputs": [],
   "source": [
    "data = \"../tests/integration/gdc.jsonl.gz\"\n",
    "with gzip.open(data, 'r') as expected_data:\n",
    "    reader = jsonlines.Reader(expected_data)\n",
    "    for case in reader:\n",
    "        if case['case_id'] == \"375436b3-66ac-4d5e-b495-18a96d812a69\":\n",
    "            print(case['submitter_id'])\n",
    "            for sample in case['samples']:\n",
    "                print(len(sample['files']))"
   ]
  },
  {
   "cell_type": "code",
   "execution_count": null,
   "id": "dd762103",
   "metadata": {},
   "outputs": [],
   "source": [
    "transformed = {'id': 'TARGET-10-PATCNI', 'identifier': [{'value': 'TARGET-10-PATCNI', 'system': 'GDC'}], 'species': 'homo sapiens', 'sex': None, 'race': None, 'ethnicity': None, 'days_to_birth': None, 'subject_associated_project': ['TARGET-ALL-P3'], 'vital_status': None, 'days_to_death': None, 'cause_of_death': None, 'Files': ['7bb2674c-3d3d-4e86-90fd-22c1164ffddf', '7ca0dc32-c91a-433c-bffa-fa7004a333a7', '4ba201bd-6832-4b15-bf00-f7647bed5f3a'], 'ResearchSubject': [{'id': '7eeced68-1717-4116-bcee-328ac70a9682', 'identifier': [{'value': '7eeced68-1717-4116-bcee-328ac70a9682', 'system': 'GDC'}], 'member_of_research_project': 'TARGET-ALL-P3', 'primary_diagnosis_condition': 'Lymphoid Leukemias', 'primary_diagnosis_site': 'Hematopoietic and reticuloendothelial systems', 'Files': ['7bb2674c-3d3d-4e86-90fd-22c1164ffddf', '7ca0dc32-c91a-433c-bffa-fa7004a333a7', '4ba201bd-6832-4b15-bf00-f7647bed5f3a'], 'Diagnosis': [], 'Specimen': [{'id': '37789082-b4bb-4f18-9a3d-aca1a65c2ced', 'identifier': [{'value': '37789082-b4bb-4f18-9a3d-aca1a65c2ced', 'system': 'GDC'}], 'associated_project': 'TARGET-ALL-P3', 'days_to_collection': None, 'primary_disease_type': 'Lymphoid Leukemias', 'anatomical_site': None, 'source_material_type': 'Primary Blood Derived Cancer - Bone Marrow', 'specimen_type': 'sample', 'derived_from_specimen': 'initial specimen', 'derived_from_subject': 'TARGET-10-PATCNI', 'Files': ['7bb2674c-3d3d-4e86-90fd-22c1164ffddf', '7ca0dc32-c91a-433c-bffa-fa7004a333a7', '4ba201bd-6832-4b15-bf00-f7647bed5f3a']}, {'id': '6388f3ec-eccc-5df4-8558-50bf416b16fa', 'identifier': [{'value': '6388f3ec-eccc-5df4-8558-50bf416b16fa', 'system': 'GDC'}], 'associated_project': 'TARGET-ALL-P3', 'days_to_collection': None, 'primary_disease_type': 'Lymphoid Leukemias', 'anatomical_site': None, 'source_material_type': 'Primary Blood Derived Cancer - Bone Marrow', 'specimen_type': 'portion', 'derived_from_specimen': '37789082-b4bb-4f18-9a3d-aca1a65c2ced', 'derived_from_subject': 'TARGET-10-PATCNI', 'Files': ['7bb2674c-3d3d-4e86-90fd-22c1164ffddf', '7ca0dc32-c91a-433c-bffa-fa7004a333a7', '4ba201bd-6832-4b15-bf00-f7647bed5f3a']}, {'id': '7de4ade2-dc5c-53f6-9815-8e42f2182b59', 'identifier': [{'value': '7de4ade2-dc5c-53f6-9815-8e42f2182b59', 'system': 'GDC'}], 'associated_project': 'TARGET-ALL-P3', 'days_to_collection': None, 'primary_disease_type': 'Lymphoid Leukemias', 'anatomical_site': None, 'source_material_type': 'Primary Blood Derived Cancer - Bone Marrow', 'specimen_type': 'analyte', 'derived_from_specimen': '6388f3ec-eccc-5df4-8558-50bf416b16fa', 'derived_from_subject': 'TARGET-10-PATCNI', 'Files': ['7bb2674c-3d3d-4e86-90fd-22c1164ffddf', '7ca0dc32-c91a-433c-bffa-fa7004a333a7', '4ba201bd-6832-4b15-bf00-f7647bed5f3a']}, {'id': '12cfe700-d1b4-4b88-b509-b8dfaf12ecdf', 'identifier': [{'value': '12cfe700-d1b4-4b88-b509-b8dfaf12ecdf', 'system': 'GDC'}], 'associated_project': 'TARGET-ALL-P3', 'days_to_collection': None, 'primary_disease_type': 'Lymphoid Leukemias', 'anatomical_site': None, 'source_material_type': 'Primary Blood Derived Cancer - Bone Marrow', 'specimen_type': 'aliquot', 'derived_from_specimen': '7de4ade2-dc5c-53f6-9815-8e42f2182b59', 'derived_from_subject': 'TARGET-10-PATCNI', 'Files': ['7bb2674c-3d3d-4e86-90fd-22c1164ffddf', '7ca0dc32-c91a-433c-bffa-fa7004a333a7', '4ba201bd-6832-4b15-bf00-f7647bed5f3a']}]}]}"
   ]
  },
  {
   "cell_type": "code",
   "execution_count": null,
   "id": "0fea8150",
   "metadata": {},
   "outputs": [],
   "source": [
    "dqv.two_matching_queries(test['ResearchSubject'][0]['Specimen'],transformed['ResearchSubject'][0]['Specimen'], 'Specimen')"
   ]
  },
  {
   "cell_type": "code",
   "execution_count": null,
   "id": "44bad86b",
   "metadata": {},
   "outputs": [],
   "source": [
    "dqv.entity_fields['Specimen']['Files'] = 'blah blah blah'"
   ]
  },
  {
   "cell_type": "code",
   "execution_count": null,
   "id": "39ceef39",
   "metadata": {},
   "outputs": [],
   "source": [
    "dqv.entity_fields['Specimen']"
   ]
  },
  {
   "cell_type": "code",
   "execution_count": null,
   "id": "161248de",
   "metadata": {},
   "outputs": [],
   "source": [
    "gdc_files = []\n",
    "with gzip.open('../gdc.all_files.jsonl.gz','r') as files:\n",
    "    reader = jsonlines.Reader(files)\n",
    "    for file in reader:\n",
    "        gdc_files.append(file['file_id'])\n",
    "len(gdc_files)"
   ]
  },
  {
   "cell_type": "code",
   "execution_count": null,
   "id": "5939c0aa",
   "metadata": {},
   "outputs": [],
   "source": [
    "gdc_files = []\n",
    "with gzip.open('../gdc.all_files.H.jsonl.gz','r') as files:\n",
    "    reader = jsonlines.Reader(files)\n",
    "    for file in reader:\n",
    "        gdc_files.append(file['id'])\n",
    "len(gdc_files)"
   ]
  },
  {
   "cell_type": "code",
   "execution_count": null,
   "id": "92d53bb9",
   "metadata": {},
   "outputs": [],
   "source": [
    "gdc_files = []\n",
    "with gzip.open('../gdc.all_files.A.jsonl.gz','r') as files:\n",
    "    reader = jsonlines.Reader(files)\n",
    "    for file in reader:\n",
    "        gdc_files.append(file['id'])\n",
    "len(gdc_files)"
   ]
  },
  {
   "cell_type": "code",
   "execution_count": null,
   "id": "5af4a365",
   "metadata": {},
   "outputs": [],
   "source": [
    "pdc_files = []\n",
    "with gzip.open('../pdc.all_files.jsonl.gz','r') as files:\n",
    "    reader = jsonlines.Reader(files)\n",
    "    for file in reader:\n",
    "        pdc_files.append(file['file_id'])\n",
    "len(pdc_files)"
   ]
  },
  {
   "cell_type": "code",
   "execution_count": null,
   "id": "05f541d6",
   "metadata": {},
   "outputs": [],
   "source": [
    "pdc_files = []\n",
    "with gzip.open('../pdc.all_files.A.jsonl.gz','r') as files:\n",
    "    reader = jsonlines.Reader(files)\n",
    "    for file in reader:\n",
    "        pdc_files.append(file['id'])\n",
    "len(pdc_files)"
   ]
  },
  {
   "cell_type": "code",
   "execution_count": null,
   "id": "d8ca5b77",
   "metadata": {},
   "outputs": [],
   "source": [
    "st1 = {'id': 'sub1', 'sex':'male', 'Files':['a','b'], \n",
    "       'ResearchSubject':[{'id':'rs1', \n",
    "                           'Specimen':[{'id':'spec1'}]\n",
    "                          }]\n",
    "      }\n",
    "st2 = {'id': 'sub1', 'sex':'male', 'Files':['a','b'], \n",
    "       'ResearchSubject':[{'id':'rs1', \n",
    "                           'Specimen':[{'id':'spec1'}]\n",
    "                          }]\n",
    "      }\n",
    "total_structure = {'Patient': {'id':'str', 'sex': 'str', 'Files': 'str',\n",
    "                               'ResearchSubject'}}"
   ]
  },
  {
   "cell_type": "code",
   "execution_count": null,
   "id": "57b7e34d",
   "metadata": {},
   "outputs": [],
   "source": [
    "def two_data_structs(struct1, struct2, total_structure):\n",
    "    entity_recs\n",
    "    for entity, tree in total_structure.items():"
   ]
  },
  {
   "cell_type": "code",
   "execution_count": null,
   "id": "b5de80a5",
   "metadata": {},
   "outputs": [],
   "source": [
    "subjects_data_file = '../all_Subjects_3_0.jsonl.gz'\n",
    "returned_data = defaultdict(list)\n",
    "#ResearchSubject.primary_diagnosis_site = \"brain\"\n",
    "pass_all_filters = False\n",
    "with gzip.open(subjects_data_file, 'r') as subj:\n",
    "    reader = jsonlines.Reader(subj)\n",
    "    for subject in reader:\n",
    "        subj_pass_filters = False\n",
    "        for RS in subject.get('ResearchSubject'):\n",
    "            pass_all_filters = False\n",
    "            RS_filter = RS.get('primary_diagnosis_site')\n",
    "            if RS_filter is not None and  RS_filter.upper() == 'brain'.upper():\n",
    "                pass_all_filters = True\n",
    "                subj_pass_filters = True\n",
    "                returned_data['Diagnoses'].extend(RS.get('Diagnosis',[]))\n",
    "                if RS.get('Specimen',[])!=[]:\n",
    "                    RS_specimens = RS.pop('Specimen')\n",
    "                    returned_data['Specimens'].extend(RS_specimens)\n",
    "                    for spec in RS_specimens:\n",
    "                        returned_data['Specimen_Files'].extend(spec.get('Files',[]))\n",
    "                returned_data['ResearchSubjects'].append(RS)\n",
    "                returned_data['ResearchSubject_Files'].extend(RS['Files'])\n",
    "        if subj_pass_filters:\n",
    "            returned_data['Subjects'].append(subject)\n",
    "            returned_data['Subject_Files'].extend(subject['Files'])\n",
    "\n"
   ]
  },
  {
   "cell_type": "code",
   "execution_count": null,
   "id": "83746c48",
   "metadata": {},
   "outputs": [],
   "source": [
    "returned_data = remove_dups(returned_data)\n",
    "dcounts = get_data_counts(returned_data)\n",
    "print(dcounts)"
   ]
  },
  {
   "cell_type": "code",
   "execution_count": null,
   "id": "4bf6e804",
   "metadata": {},
   "outputs": [],
   "source": [
    "q = Q('ResearchSubject.primary_diagnosis_site = \"brain\"')\n",
    "qresults = dqv.all_q_entities(q)\n",
    "qcounts = get_data_counts(qresults)\n",
    "print(qcounts)"
   ]
  },
  {
   "cell_type": "code",
   "execution_count": null,
   "id": "1344e6a0",
   "metadata": {},
   "outputs": [],
   "source": [
    "with gzip.open('../idc_v9_Subjects_final.jsonl.gz') as idc:\n",
    "    reader = jsonlines.Reader(idc)\n",
    "    for i in reader:\n",
    "        print(i['species'])\n",
    "        break"
   ]
  },
  {
   "cell_type": "code",
   "execution_count": null,
   "id": "663da826",
   "metadata": {},
   "outputs": [],
   "source": [
    "with gzip.open('../all_Subjects_3_0.jsonl.gz') as idc:\n",
    "    reader = jsonlines.Reader(idc)\n",
    "    for i in reader:\n",
    "        if i['species'] == 'Homo sapiens':\n",
    "            print(i['identifier'])\n",
    "            break"
   ]
  },
  {
   "cell_type": "code",
   "execution_count": null,
   "id": "0a282d1c",
   "metadata": {},
   "outputs": [],
   "source": [
    "fore_ex_specs = [{\n",
    "  \"specimens\": {\n",
    "    \"id\": \"f6cce507-641b-11e8-bcf1-0a2705229b82\",\n",
    "    \"identifier\": [{\n",
    "      \"system\": \"PDC\",\n",
    "      \"value\": \"f6cce507-641b-11e8-bcf1-0a2705229b82\"\n",
    "    }],\n",
    "    \"associated_project\": \"CPTAC-2\",\n",
    "    \"days_to_collection\": None,\n",
    "    \"primary_disease_type\": \"Colon Adenocarcinoma\",\n",
    "    \"anatomical_site\": \"Not Reported\",\n",
    "    \"source_material_type\": \"Primary Tumor\",\n",
    "    \"specimen_type\": \"sample\",\n",
    "    \"derived_from_specimen\": \"initial specimen\",\n",
    "    \"derived_from_subject\": \"09CO022\",\n",
    "    \"Files\": [\"0b236baf-d1cc-4d1b-89ab-f47a1baf2f54\", \"932ca639-c23b-4a5c-be78-5a257f9212e7\", \"8119ed56-ce52-43a3-a323-c4bf58dd935c\", \"984427aa-2013-4822-9a04-2e7e3a95e542\", \"a0f64b2a-3672-49a7-9a45-509d4f89a5d6\", \"87a94cca-986a-456c-94c4-05d297bd7274\", \"b576d133-59f8-40a3-8e02-8b6007547d34\", \"6e8310f5-0bc6-49dd-b934-06722427b421\", \"06b6f850-b3b6-492b-88a5-214906b71338\", \"8dea43ca-5b46-4d97-8fb1-ea173bc5c5d3\", \"85293896-3816-4afa-acb7-bc4311f64adc\", \"b6b5ce5c-ac41-4be9-9c02-5738509ac2f1\", \"3ac4db66-7660-451f-833d-32ffa4f159d6\", \"efcb2319-d4c1-486e-b954-5965ed777dd5\", \"34f3b35d-056e-458e-805d-aa9eddc8fcc9\", \"d123999c-98fa-4171-b248-7b782643ab28\", \"1f63a16d-ee0b-496f-a3cc-52eda4f199b1\", \"1d03430b-fbb9-4aa4-aa63-0f1d57254bd8\", \"f07375eb-d4a0-4df9-809c-77cb576ef4b5\", \"21b0644c-4bc2-4a72-826a-eb0b507add08\", \"e68b9b17-100e-48c1-84d7-d1a5f9485c1e\", \"298465a9-a0e0-4691-b368-6a2c00be294f\", \"c309d2e0-0551-465a-a4e0-ca5e7a59d7f1\", \"f0d9fd49-298f-449b-9d29-b7253c5e2a7c\", \"58797074-31b1-4ad2-8c4f-5bcc39486c85\", \"724c463d-afb5-4ab9-bf70-90505347a10f\", \"aeee4181-b277-472a-881d-b61bf178f597\", \"627d302f-557c-4e03-9050-89ee2404d04a\", \"72af85d8-ca3e-461d-8813-83e4981a7447\", \"e098e982-8a8f-449b-b36b-de20b63a8dc5\", \"7aece4d7-687f-428b-998b-92030e2ea0b5\", \"96ce4701-3f16-47dd-9778-1d8c1eef16e6\", \"e22e4280-7ac3-4038-888a-095b4ce4a7a6\", \"0d846fdf-169e-4081-910d-a792fab3df43\", \"2b85a5e2-7091-4fb3-859e-4520e38e4525\", \"40617525-424e-4bc0-8468-4e00ff9f0ccb\", \"5de6ec5d-e824-405d-ab47-bb633f0b30b0\", \"f89c439d-465d-4b2e-b117-19aa82cd87b4\", \"29397011-e525-4027-9c3d-c1f86b15e041\", \"6013ddc3-de68-4fa0-81bb-6c4b30ba06f2\", \"b63506ea-c6c2-41b4-9c4e-0591f3c5b620\", \"75b3f79d-a90e-4204-a67d-dd8af9fb2c12\", \"80de8307-400c-4e91-86c5-110183826a8f\", \"55dea7f7-c521-4b71-8eb6-4b18fde8dd3e\", \"d252a407-fb5b-40c4-83e4-aa4865adb9e2\", \"aff41011-83d2-412d-9ece-887272bbfcb1\", \"9992288d-7bdc-4cd2-99a8-5eedefbeffca\", \"22634cb8-c4a5-40a5-a9d6-e447896e8681\", \"f3bb04cb-8cbd-45b6-8b2c-c3c42a56e9c2\", \"82a24092-4d20-48be-9242-434b5cb13300\", \"a6cbebbe-ec64-4fc4-9df9-64b7c83af3e0\", \"ec2b6628-0081-4609-9d84-8fe7e8fe5ee2\", \"b93abf59-3591-4921-9695-3cae8898818b\", \"9e836fe1-d5a3-4c59-ad7a-1c8a084b6a9b\", \"f214f823-0d83-4563-9cfd-a4e5d421178a\", \"81c2839d-9f30-4f26-bca7-bc5616b1e7c7\", \"51906b58-0772-436f-bcb8-fc2f36fcd5e2\", \"7d3c33cf-5028-4ba0-98f0-c9d29411daf4\", \"7604aa47-6b24-4615-958b-397ecdc1e5ee\", \"a53aa3f0-1659-4c46-9c1c-73879ea12985\", \"47832160-26f2-4ad2-ae65-a781303b21d7\", \"fbbfc3ab-0238-48e9-8dff-c669e88c54d4\", \"fa9b4f1c-0297-4b48-8130-250548130a10\", \"1a1b004e-2ac6-42a7-b745-3e52be7fa22c\", \"99d06cc3-01d5-4ac1-bd89-cceee73864b5\", \"6f7cee54-ce35-4e89-9555-c5fe3faf0dd1\", \"07dde26b-a6b4-4758-8f7d-483bb4340a95\", \"0daea74c-6886-415b-9395-cd4e0857acb4\", \"41057289-39ea-4f09-b24f-dfd1336fc1ed\", \"8e5af17a-02fc-4ba7-9887-bc03b0c83fca\", \"cfb64703-2cdb-4b35-984f-4d0a582aff06\", \"2cec8163-ac36-45ba-bdf6-ece8372dd44a\", \"ebd17416-a9ee-4ce9-9252-76611337a18e\", \"3f3383b2-97a7-4db3-9055-ef1190adca92\", \"0a63771a-14b2-4d6b-9c08-c7177c372789\", \"df3f15b4-15ce-4957-8c30-912eedf71e18\", \"6ca7d2db-8d2e-4b3a-b296-18b401a8a447\", \"6e2d5918-e230-433d-9178-7c8fb348d19b\", \"7f475e53-7efa-45f4-8e34-3bc84cc068b8\", \"7b831b12-9e11-489f-bd37-47d37d740d4d\", \"28cebeba-0af6-42f8-9d3d-9b2d6aadcd8a\", \"cea9dd09-9672-4bf5-b093-0227db5b13f0\", \"3d1ffaff-47b5-4e63-9840-6490055fd38d\", \"a1b929ad-9041-4da3-bc95-d17f38820b03\", \"b730fa81-1758-45c0-a6c5-2ab07e4c809d\", \"0235942c-7bd3-46c1-8a3d-87e42a0b1e86\", \"033b6ad3-25fe-40e9-87fa-4f317f84478a\", \"e4d8ad09-a592-494d-86f3-6c2e49bbbb9c\", \"b3f95f3e-50ce-40cf-b5e2-4b4c8ae61982\", \"f3704d75-cb01-4b0b-81f2-7abeec4420da\", \"bad201f1-6500-4ac0-8396-30a39c0d0c79\", \"73520cf6-2bb8-404f-8323-0a37c20c18f9\", \"8e5c3116-fa82-46ee-9f4c-9760d96aea50\", \"e678893f-fadc-4a92-842e-e89534886b9d\", \"c350e8c0-8fcc-4fe0-bc47-51b024fb757a\", \"9699a4fb-9ff5-4a7e-8c53-2d562c9173f1\", \"25dfda11-00b8-432b-8c24-dcc604629be9\", \"619b5c69-ffb3-494d-bf19-242e453c2c05\", \"250dbc86-4d5c-45aa-bab5-0fb75678574b\", \"99525364-38e3-480a-9429-01ad97d0a2d8\", \"3d462e53-b907-4586-9b1f-041dde2b5dd5\", \"1cf6afc7-d8dd-492e-88b4-ce73f63f0525\", \"d9bece50-a8a4-4112-9fa6-680bd430ecdd\", \"c286245c-2fbd-4743-9cd9-eb9c1bbb659a\", \"42cfb6e3-3ebc-4a5e-bcd0-99c9fe7992b8\", \"a957b410-9201-41d7-bd79-92343459202d\", \"dfc26eb6-2c9d-4ac2-bd11-5c4dfc7e006b\", \"76370b7a-c03c-4d59-8dcd-d7e9c0c52f96\", \"2f42f669-8819-423f-9078-ec988cb71d11\", \"299bd409-a638-4e96-967d-1811b3f0a0ce\", \"15c78167-3f73-45a1-ac95-f9a426cc1da8\", \"35a15436-ecdd-46f4-8122-7a93d55f8130\", \"3e267db7-9882-49bf-a98c-6db89d6bda35\", \"2e9d7ff3-5614-4a6b-bd9b-6a3c2303bfd1\", \"8ff06795-8e4b-4e60-9a2c-f606b671e5a0\", \"d74309bf-30e8-4b47-9d1e-6fb074f7de7d\", \"bce10ef2-47dd-4eea-8c91-089e31e24736\", \"eec97b50-58e7-41e9-9b53-e192632655c4\", \"7f46f4ad-053e-4e22-be36-5df3dcdee61f\", \"ef4a5cf5-ade0-41f9-95e6-b351531b2b52\", \"017e0e6e-a191-4135-a5f0-07a2819096f5\", \"bc36613c-86ed-42f6-8717-2ba89c9bba7f\", \"9a11367a-a2a4-4b38-8bb1-8165f675e8b0\", \"a09c62ad-809b-43c7-bd98-d9162ea3b03e\", \"306b5a13-abdd-4e87-a86c-b67409f5d0ab\", \"4e2eb376-2f18-4e39-b42e-bd76a829f230\", \"84825be4-cf2f-4b36-8659-d34be70bda80\", \"678d2b2c-794a-46d5-b510-c7def707a498\", \"78d4f347-6f5a-4180-a62e-15a852049269\", \"2834e1b0-1323-4ee5-b819-0e836aac244e\", \"48d6afa8-9a0d-49b1-b080-f879108aefe9\", \"981e8739-a5e2-4a44-b4e2-c0d4e061ce6d\", \"45cba06f-441b-4ae5-8449-13a4d77805b1\", \"44768877-bb13-4dd9-90f0-9258cdcb92ca\", \"ee639ea3-ff0e-405b-b9b4-16d1c16edea8\", \"02a335f5-ea48-4d29-94b4-e1f50c94eb47\", \"e54f430b-8cdf-47d7-9c66-8688f32a256f\", \"72ebfaa6-fe90-48b9-a2ce-14c8713f542f\", \"0d8a50dc-acf2-43af-8390-ba1a0c999f71\", \"2e3a8f56-e8a1-4679-9ff6-1720613027d2\", \"bc748711-2dac-4bd6-85bb-ae2fedd0cc8b\", \"517cb574-ed34-4e1d-9419-bb518ce71739\", \"715b45d8-9afe-4831-ad94-a254697bb353\", \"6b8e3f25-b07a-4cbf-b3ac-e5a9f4e9d75a\", \"895ca622-be08-40cd-ae54-6b7de92babda\", \"e10a4629-75c4-45c9-9ce3-00d7b0f31232\", \"71841539-31c0-409d-89f1-cf8ab21edff0\", \"c932cbd0-306d-4159-ad30-0cd2ad018ffc\", \"d8276edd-e179-4a3e-818c-1f071235dbbd\", \"2f4abf53-ee6c-43d7-82f9-7b5d7a055ff7\", \"ac6ab1f8-cc31-4b40-a948-d0eb631ae68f\", \"aa1ff0a1-1012-420b-9db9-cdf1c988eb54\", \"b4be77b4-b2de-4b7a-b0ef-c13194f71569\", \"7eed2b0d-dbf7-48fa-b567-301dd124d1df\", \"e7b9eafa-47c6-48be-a365-8a8467dcff3b\", \"4d60d292-cbbf-4610-8ef8-cd99fe3f900f\", \"52b34ed8-f4fb-4fea-92dc-c5e3d19e2289\", \"9fd06628-d752-410e-b96c-d8a52c5eed17\", \"b86bdaa4-4707-4b3b-88f4-809f6f985fdb\", \"d24a983f-5c0b-4df2-8135-06485b4a1529\", \"31a66bc4-2b12-4310-919f-b8c0231e252d\", \"4ac75865-1dd4-4785-b8b0-ec0e133eab6c\", \"60151d57-1ae0-48f9-9bd9-2b55e6bf1be1\", \"9dffbfff-2474-4263-8580-6bffc2efe2a4\", \"1279b00d-cb50-4021-a595-08e7c3dd35c0\", \"921eb010-48e5-4aaf-9497-aff34371f106\", \"af97d061-29ca-4728-b3eb-3449cf8b39a2\", \"a105451a-ae8c-4c30-b7e5-6a678d920a6f\"]\n",
    "  }\n",
    "}, {\n",
    "  \"specimens\": {\n",
    "    \"id\": \"08b2a2bf-6427-11e8-bcf1-0a2705229b82\",\n",
    "    \"identifier\": [{\n",
    "      \"system\": \"PDC\",\n",
    "      \"value\": \"08b2a2bf-6427-11e8-bcf1-0a2705229b82\"\n",
    "    }],\n",
    "    \"associated_project\": \"CPTAC-2\",\n",
    "    \"days_to_collection\": None,\n",
    "    \"primary_disease_type\": \"Colon Adenocarcinoma\",\n",
    "    \"anatomical_site\": \"Not Reported\",\n",
    "    \"source_material_type\": \"Primary Tumor\",\n",
    "    \"specimen_type\": \"aliquot\",\n",
    "    \"derived_from_specimen\": \"f6cce507-641b-11e8-bcf1-0a2705229b82\",\n",
    "    \"derived_from_subject\": \"09CO022\",\n",
    "    \"Files\": [\"6013ddc3-de68-4fa0-81bb-6c4b30ba06f2\", \"d24a983f-5c0b-4df2-8135-06485b4a1529\", \"033b6ad3-25fe-40e9-87fa-4f317f84478a\", \"7d3c33cf-5028-4ba0-98f0-c9d29411daf4\", \"ef4a5cf5-ade0-41f9-95e6-b351531b2b52\", \"f0d9fd49-298f-449b-9d29-b7253c5e2a7c\", \"0b236baf-d1cc-4d1b-89ab-f47a1baf2f54\", \"9992288d-7bdc-4cd2-99a8-5eedefbeffca\", \"85293896-3816-4afa-acb7-bc4311f64adc\", \"fbbfc3ab-0238-48e9-8dff-c669e88c54d4\", \"0d8a50dc-acf2-43af-8390-ba1a0c999f71\", \"84825be4-cf2f-4b36-8659-d34be70bda80\", \"25dfda11-00b8-432b-8c24-dcc604629be9\", \"2b85a5e2-7091-4fb3-859e-4520e38e4525\", \"87a94cca-986a-456c-94c4-05d297bd7274\", \"298465a9-a0e0-4691-b368-6a2c00be294f\", \"b730fa81-1758-45c0-a6c5-2ab07e4c809d\", \"29397011-e525-4027-9c3d-c1f86b15e041\", \"f07375eb-d4a0-4df9-809c-77cb576ef4b5\", \"d9bece50-a8a4-4112-9fa6-680bd430ecdd\", \"c286245c-2fbd-4743-9cd9-eb9c1bbb659a\", \"a957b410-9201-41d7-bd79-92343459202d\", \"1d03430b-fbb9-4aa4-aa63-0f1d57254bd8\", \"a6cbebbe-ec64-4fc4-9df9-64b7c83af3e0\"]\n",
    "  }\n",
    "}, {\n",
    "  \"specimens\": {\n",
    "    \"id\": \"f4af3e4d-641b-11e8-bcf1-0a2705229b82\",\n",
    "    \"identifier\": [{\n",
    "      \"system\": \"PDC\",\n",
    "      \"value\": \"f4af3e4d-641b-11e8-bcf1-0a2705229b82\"\n",
    "    }],\n",
    "    \"associated_project\": \"CPTAC-2\",\n",
    "    \"days_to_collection\": None,\n",
    "    \"primary_disease_type\": \"Colon Adenocarcinoma\",\n",
    "    \"anatomical_site\": \"Not Reported\",\n",
    "    \"source_material_type\": \"Solid Tissue Normal\",\n",
    "    \"specimen_type\": \"sample\",\n",
    "    \"derived_from_specimen\": \"initial specimen\",\n",
    "    \"derived_from_subject\": \"09CO022\",\n",
    "    \"Files\": [\"0b236baf-d1cc-4d1b-89ab-f47a1baf2f54\", \"932ca639-c23b-4a5c-be78-5a257f9212e7\", \"8119ed56-ce52-43a3-a323-c4bf58dd935c\", \"984427aa-2013-4822-9a04-2e7e3a95e542\", \"a0f64b2a-3672-49a7-9a45-509d4f89a5d6\", \"87a94cca-986a-456c-94c4-05d297bd7274\", \"b576d133-59f8-40a3-8e02-8b6007547d34\", \"6e8310f5-0bc6-49dd-b934-06722427b421\", \"06b6f850-b3b6-492b-88a5-214906b71338\", \"8dea43ca-5b46-4d97-8fb1-ea173bc5c5d3\", \"85293896-3816-4afa-acb7-bc4311f64adc\", \"b6b5ce5c-ac41-4be9-9c02-5738509ac2f1\", \"3ac4db66-7660-451f-833d-32ffa4f159d6\", \"efcb2319-d4c1-486e-b954-5965ed777dd5\", \"d123999c-98fa-4171-b248-7b782643ab28\", \"34f3b35d-056e-458e-805d-aa9eddc8fcc9\", \"1f63a16d-ee0b-496f-a3cc-52eda4f199b1\", \"1d03430b-fbb9-4aa4-aa63-0f1d57254bd8\", \"f07375eb-d4a0-4df9-809c-77cb576ef4b5\", \"21b0644c-4bc2-4a72-826a-eb0b507add08\", \"e68b9b17-100e-48c1-84d7-d1a5f9485c1e\", \"298465a9-a0e0-4691-b368-6a2c00be294f\", \"c309d2e0-0551-465a-a4e0-ca5e7a59d7f1\", \"f0d9fd49-298f-449b-9d29-b7253c5e2a7c\", \"58797074-31b1-4ad2-8c4f-5bcc39486c85\", \"724c463d-afb5-4ab9-bf70-90505347a10f\", \"aeee4181-b277-472a-881d-b61bf178f597\", \"627d302f-557c-4e03-9050-89ee2404d04a\", \"72af85d8-ca3e-461d-8813-83e4981a7447\", \"e098e982-8a8f-449b-b36b-de20b63a8dc5\", \"7aece4d7-687f-428b-998b-92030e2ea0b5\", \"96ce4701-3f16-47dd-9778-1d8c1eef16e6\", \"e22e4280-7ac3-4038-888a-095b4ce4a7a6\", \"0d846fdf-169e-4081-910d-a792fab3df43\", \"40617525-424e-4bc0-8468-4e00ff9f0ccb\", \"2b85a5e2-7091-4fb3-859e-4520e38e4525\", \"5de6ec5d-e824-405d-ab47-bb633f0b30b0\", \"f89c439d-465d-4b2e-b117-19aa82cd87b4\", \"29397011-e525-4027-9c3d-c1f86b15e041\", \"6013ddc3-de68-4fa0-81bb-6c4b30ba06f2\", \"b63506ea-c6c2-41b4-9c4e-0591f3c5b620\", \"75b3f79d-a90e-4204-a67d-dd8af9fb2c12\", \"80de8307-400c-4e91-86c5-110183826a8f\", \"55dea7f7-c521-4b71-8eb6-4b18fde8dd3e\", \"d252a407-fb5b-40c4-83e4-aa4865adb9e2\", \"aff41011-83d2-412d-9ece-887272bbfcb1\", \"9992288d-7bdc-4cd2-99a8-5eedefbeffca\", \"22634cb8-c4a5-40a5-a9d6-e447896e8681\", \"f3bb04cb-8cbd-45b6-8b2c-c3c42a56e9c2\", \"82a24092-4d20-48be-9242-434b5cb13300\", \"a6cbebbe-ec64-4fc4-9df9-64b7c83af3e0\", \"ec2b6628-0081-4609-9d84-8fe7e8fe5ee2\", \"b93abf59-3591-4921-9695-3cae8898818b\", \"9e836fe1-d5a3-4c59-ad7a-1c8a084b6a9b\", \"f214f823-0d83-4563-9cfd-a4e5d421178a\", \"81c2839d-9f30-4f26-bca7-bc5616b1e7c7\", \"51906b58-0772-436f-bcb8-fc2f36fcd5e2\", \"7d3c33cf-5028-4ba0-98f0-c9d29411daf4\", \"7604aa47-6b24-4615-958b-397ecdc1e5ee\", \"a53aa3f0-1659-4c46-9c1c-73879ea12985\", \"47832160-26f2-4ad2-ae65-a781303b21d7\", \"fbbfc3ab-0238-48e9-8dff-c669e88c54d4\", \"fa9b4f1c-0297-4b48-8130-250548130a10\", \"1a1b004e-2ac6-42a7-b745-3e52be7fa22c\", \"99d06cc3-01d5-4ac1-bd89-cceee73864b5\", \"6f7cee54-ce35-4e89-9555-c5fe3faf0dd1\", \"07dde26b-a6b4-4758-8f7d-483bb4340a95\", \"0daea74c-6886-415b-9395-cd4e0857acb4\", \"41057289-39ea-4f09-b24f-dfd1336fc1ed\", \"8e5af17a-02fc-4ba7-9887-bc03b0c83fca\", \"cfb64703-2cdb-4b35-984f-4d0a582aff06\", \"2cec8163-ac36-45ba-bdf6-ece8372dd44a\", \"ebd17416-a9ee-4ce9-9252-76611337a18e\", \"3f3383b2-97a7-4db3-9055-ef1190adca92\", \"0a63771a-14b2-4d6b-9c08-c7177c372789\", \"df3f15b4-15ce-4957-8c30-912eedf71e18\", \"6ca7d2db-8d2e-4b3a-b296-18b401a8a447\", \"6e2d5918-e230-433d-9178-7c8fb348d19b\", \"7f475e53-7efa-45f4-8e34-3bc84cc068b8\", \"7b831b12-9e11-489f-bd37-47d37d740d4d\", \"28cebeba-0af6-42f8-9d3d-9b2d6aadcd8a\", \"cea9dd09-9672-4bf5-b093-0227db5b13f0\", \"3d1ffaff-47b5-4e63-9840-6490055fd38d\", \"a1b929ad-9041-4da3-bc95-d17f38820b03\", \"b730fa81-1758-45c0-a6c5-2ab07e4c809d\", \"0235942c-7bd3-46c1-8a3d-87e42a0b1e86\", \"033b6ad3-25fe-40e9-87fa-4f317f84478a\", \"e4d8ad09-a592-494d-86f3-6c2e49bbbb9c\", \"b3f95f3e-50ce-40cf-b5e2-4b4c8ae61982\", \"f3704d75-cb01-4b0b-81f2-7abeec4420da\", \"bad201f1-6500-4ac0-8396-30a39c0d0c79\", \"73520cf6-2bb8-404f-8323-0a37c20c18f9\", \"8e5c3116-fa82-46ee-9f4c-9760d96aea50\", \"e678893f-fadc-4a92-842e-e89534886b9d\", \"c350e8c0-8fcc-4fe0-bc47-51b024fb757a\", \"9699a4fb-9ff5-4a7e-8c53-2d562c9173f1\", \"25dfda11-00b8-432b-8c24-dcc604629be9\", \"619b5c69-ffb3-494d-bf19-242e453c2c05\", \"250dbc86-4d5c-45aa-bab5-0fb75678574b\", \"99525364-38e3-480a-9429-01ad97d0a2d8\", \"3d462e53-b907-4586-9b1f-041dde2b5dd5\", \"1cf6afc7-d8dd-492e-88b4-ce73f63f0525\", \"d9bece50-a8a4-4112-9fa6-680bd430ecdd\", \"c286245c-2fbd-4743-9cd9-eb9c1bbb659a\", \"42cfb6e3-3ebc-4a5e-bcd0-99c9fe7992b8\", \"a957b410-9201-41d7-bd79-92343459202d\", \"dfc26eb6-2c9d-4ac2-bd11-5c4dfc7e006b\", \"76370b7a-c03c-4d59-8dcd-d7e9c0c52f96\", \"2f42f669-8819-423f-9078-ec988cb71d11\", \"299bd409-a638-4e96-967d-1811b3f0a0ce\", \"15c78167-3f73-45a1-ac95-f9a426cc1da8\", \"35a15436-ecdd-46f4-8122-7a93d55f8130\", \"3e267db7-9882-49bf-a98c-6db89d6bda35\", \"2e9d7ff3-5614-4a6b-bd9b-6a3c2303bfd1\", \"8ff06795-8e4b-4e60-9a2c-f606b671e5a0\", \"d74309bf-30e8-4b47-9d1e-6fb074f7de7d\", \"bce10ef2-47dd-4eea-8c91-089e31e24736\", \"eec97b50-58e7-41e9-9b53-e192632655c4\", \"7f46f4ad-053e-4e22-be36-5df3dcdee61f\", \"ef4a5cf5-ade0-41f9-95e6-b351531b2b52\", \"017e0e6e-a191-4135-a5f0-07a2819096f5\", \"bc36613c-86ed-42f6-8717-2ba89c9bba7f\", \"9a11367a-a2a4-4b38-8bb1-8165f675e8b0\", \"a09c62ad-809b-43c7-bd98-d9162ea3b03e\", \"306b5a13-abdd-4e87-a86c-b67409f5d0ab\", \"4e2eb376-2f18-4e39-b42e-bd76a829f230\", \"84825be4-cf2f-4b36-8659-d34be70bda80\", \"678d2b2c-794a-46d5-b510-c7def707a498\", \"78d4f347-6f5a-4180-a62e-15a852049269\", \"2834e1b0-1323-4ee5-b819-0e836aac244e\", \"48d6afa8-9a0d-49b1-b080-f879108aefe9\", \"981e8739-a5e2-4a44-b4e2-c0d4e061ce6d\", \"45cba06f-441b-4ae5-8449-13a4d77805b1\", \"44768877-bb13-4dd9-90f0-9258cdcb92ca\", \"ee639ea3-ff0e-405b-b9b4-16d1c16edea8\", \"02a335f5-ea48-4d29-94b4-e1f50c94eb47\", \"e54f430b-8cdf-47d7-9c66-8688f32a256f\", \"72ebfaa6-fe90-48b9-a2ce-14c8713f542f\", \"0d8a50dc-acf2-43af-8390-ba1a0c999f71\", \"2e3a8f56-e8a1-4679-9ff6-1720613027d2\", \"bc748711-2dac-4bd6-85bb-ae2fedd0cc8b\", \"517cb574-ed34-4e1d-9419-bb518ce71739\", \"715b45d8-9afe-4831-ad94-a254697bb353\", \"6b8e3f25-b07a-4cbf-b3ac-e5a9f4e9d75a\", \"895ca622-be08-40cd-ae54-6b7de92babda\", \"e10a4629-75c4-45c9-9ce3-00d7b0f31232\", \"71841539-31c0-409d-89f1-cf8ab21edff0\", \"c932cbd0-306d-4159-ad30-0cd2ad018ffc\", \"d8276edd-e179-4a3e-818c-1f071235dbbd\", \"2f4abf53-ee6c-43d7-82f9-7b5d7a055ff7\", \"ac6ab1f8-cc31-4b40-a948-d0eb631ae68f\", \"aa1ff0a1-1012-420b-9db9-cdf1c988eb54\", \"b4be77b4-b2de-4b7a-b0ef-c13194f71569\", \"7eed2b0d-dbf7-48fa-b567-301dd124d1df\", \"e7b9eafa-47c6-48be-a365-8a8467dcff3b\", \"4d60d292-cbbf-4610-8ef8-cd99fe3f900f\", \"52b34ed8-f4fb-4fea-92dc-c5e3d19e2289\", \"9fd06628-d752-410e-b96c-d8a52c5eed17\", \"b86bdaa4-4707-4b3b-88f4-809f6f985fdb\", \"d24a983f-5c0b-4df2-8135-06485b4a1529\", \"31a66bc4-2b12-4310-919f-b8c0231e252d\", \"4ac75865-1dd4-4785-b8b0-ec0e133eab6c\", \"60151d57-1ae0-48f9-9bd9-2b55e6bf1be1\", \"9dffbfff-2474-4263-8580-6bffc2efe2a4\", \"1279b00d-cb50-4021-a595-08e7c3dd35c0\", \"921eb010-48e5-4aaf-9497-aff34371f106\", \"af97d061-29ca-4728-b3eb-3449cf8b39a2\", \"a105451a-ae8c-4c30-b7e5-6a678d920a6f\"]\n",
    "  }\n",
    "}, {\n",
    "  \"specimens\": {\n",
    "    \"id\": \"208ebc64-6425-11e8-bcf1-0a2705229b82\",\n",
    "    \"identifier\": [{\n",
    "      \"system\": \"PDC\",\n",
    "      \"value\": \"208ebc64-6425-11e8-bcf1-0a2705229b82\"\n",
    "    }],\n",
    "    \"associated_project\": \"CPTAC-2\",\n",
    "    \"days_to_collection\": None,\n",
    "    \"primary_disease_type\": \"Colon Adenocarcinoma\",\n",
    "    \"anatomical_site\": \"Not Reported\",\n",
    "    \"source_material_type\": \"Solid Tissue Normal\",\n",
    "    \"specimen_type\": \"aliquot\",\n",
    "    \"derived_from_specimen\": \"f4af3e4d-641b-11e8-bcf1-0a2705229b82\",\n",
    "    \"derived_from_subject\": \"09CO022\",\n",
    "    \"Files\": [\"3d462e53-b907-4586-9b1f-041dde2b5dd5\", \"75b3f79d-a90e-4204-a67d-dd8af9fb2c12\", \"80de8307-400c-4e91-86c5-110183826a8f\", \"48d6afa8-9a0d-49b1-b080-f879108aefe9\", \"55dea7f7-c521-4b71-8eb6-4b18fde8dd3e\", \"8119ed56-ce52-43a3-a323-c4bf58dd935c\", \"1cf6afc7-d8dd-492e-88b4-ce73f63f0525\", \"984427aa-2013-4822-9a04-2e7e3a95e542\", \"aff41011-83d2-412d-9ece-887272bbfcb1\", \"a0f64b2a-3672-49a7-9a45-509d4f89a5d6\", \"ee639ea3-ff0e-405b-b9b4-16d1c16edea8\", \"42cfb6e3-3ebc-4a5e-bcd0-99c9fe7992b8\", \"81c2839d-9f30-4f26-bca7-bc5616b1e7c7\", \"f214f823-0d83-4563-9cfd-a4e5d421178a\", \"b6b5ce5c-ac41-4be9-9c02-5738509ac2f1\", \"51906b58-0772-436f-bcb8-fc2f36fcd5e2\", \"2834e1b0-1323-4ee5-b819-0e836aac244e\", \"a53aa3f0-1659-4c46-9c1c-73879ea12985\", \"3ac4db66-7660-451f-833d-32ffa4f159d6\", \"efcb2319-d4c1-486e-b954-5965ed777dd5\", \"d123999c-98fa-4171-b248-7b782643ab28\", \"47832160-26f2-4ad2-ae65-a781303b21d7\", \"bc748711-2dac-4bd6-85bb-ae2fedd0cc8b\", \"517cb574-ed34-4e1d-9419-bb518ce71739\", \"fa9b4f1c-0297-4b48-8130-250548130a10\", \"715b45d8-9afe-4831-ad94-a254697bb353\", \"895ca622-be08-40cd-ae54-6b7de92babda\", \"2f42f669-8819-423f-9078-ec988cb71d11\", \"dfc26eb6-2c9d-4ac2-bd11-5c4dfc7e006b\", \"1a1b004e-2ac6-42a7-b745-3e52be7fa22c\", \"21b0644c-4bc2-4a72-826a-eb0b507add08\", \"0daea74c-6886-415b-9395-cd4e0857acb4\", \"41057289-39ea-4f09-b24f-dfd1336fc1ed\", \"8e5af17a-02fc-4ba7-9887-bc03b0c83fca\", \"ac6ab1f8-cc31-4b40-a948-d0eb631ae68f\", \"cfb64703-2cdb-4b35-984f-4d0a582aff06\", \"ebd17416-a9ee-4ce9-9252-76611337a18e\", \"58797074-31b1-4ad2-8c4f-5bcc39486c85\", \"aeee4181-b277-472a-881d-b61bf178f597\", \"0a63771a-14b2-4d6b-9c08-c7177c372789\", \"d74309bf-30e8-4b47-9d1e-6fb074f7de7d\", \"627d302f-557c-4e03-9050-89ee2404d04a\", \"bce10ef2-47dd-4eea-8c91-089e31e24736\", \"6ca7d2db-8d2e-4b3a-b296-18b401a8a447\", \"6e2d5918-e230-433d-9178-7c8fb348d19b\", \"72af85d8-ca3e-461d-8813-83e4981a7447\", \"e7b9eafa-47c6-48be-a365-8a8467dcff3b\", \"4d60d292-cbbf-4610-8ef8-cd99fe3f900f\", \"7f475e53-7efa-45f4-8e34-3bc84cc068b8\", \"52b34ed8-f4fb-4fea-92dc-c5e3d19e2289\", \"7b831b12-9e11-489f-bd37-47d37d740d4d\", \"e22e4280-7ac3-4038-888a-095b4ce4a7a6\", \"7f46f4ad-053e-4e22-be36-5df3dcdee61f\", \"28cebeba-0af6-42f8-9d3d-9b2d6aadcd8a\", \"3d1ffaff-47b5-4e63-9840-6490055fd38d\", \"0d846fdf-169e-4081-910d-a792fab3df43\", \"31a66bc4-2b12-4310-919f-b8c0231e252d\", \"a1b929ad-9041-4da3-bc95-d17f38820b03\", \"40617525-424e-4bc0-8468-4e00ff9f0ccb\", \"0235942c-7bd3-46c1-8a3d-87e42a0b1e86\", \"4ac75865-1dd4-4785-b8b0-ec0e133eab6c\", \"f89c439d-465d-4b2e-b117-19aa82cd87b4\", \"e4d8ad09-a592-494d-86f3-6c2e49bbbb9c\", \"678d2b2c-794a-46d5-b510-c7def707a498\", \"f3704d75-cb01-4b0b-81f2-7abeec4420da\", \"1279b00d-cb50-4021-a595-08e7c3dd35c0\", \"bad201f1-6500-4ac0-8396-30a39c0d0c79\", \"78d4f347-6f5a-4180-a62e-15a852049269\", \"a105451a-ae8c-4c30-b7e5-6a678d920a6f\", \"b63506ea-c6c2-41b4-9c4e-0591f3c5b620\", \"619b5c69-ffb3-494d-bf19-242e453c2c05\", \"250dbc86-4d5c-45aa-bab5-0fb75678574b\"]\n",
    "  }\n",
    "}, {\n",
    "  \"specimens\": {\n",
    "    \"id\": \"44f5b956-642a-11e8-bcf1-0a2705229b82\",\n",
    "    \"identifier\": [{\n",
    "      \"system\": \"PDC\",\n",
    "      \"value\": \"44f5b956-642a-11e8-bcf1-0a2705229b82\"\n",
    "    }],\n",
    "    \"associated_project\": \"CPTAC-2\",\n",
    "    \"days_to_collection\": None,\n",
    "    \"primary_disease_type\": \"Colon Adenocarcinoma\",\n",
    "    \"anatomical_site\": \"Not Reported\",\n",
    "    \"source_material_type\": \"Primary Tumor\",\n",
    "    \"specimen_type\": \"aliquot\",\n",
    "    \"derived_from_specimen\": \"f6cce507-641b-11e8-bcf1-0a2705229b82\",\n",
    "    \"derived_from_subject\": \"09CO022\",\n",
    "    \"Files\": [\"99525364-38e3-480a-9429-01ad97d0a2d8\", \"af97d061-29ca-4728-b3eb-3449cf8b39a2\", \"932ca639-c23b-4a5c-be78-5a257f9212e7\", \"d252a407-fb5b-40c4-83e4-aa4865adb9e2\", \"45cba06f-441b-4ae5-8449-13a4d77805b1\", \"22634cb8-c4a5-40a5-a9d6-e447896e8681\", \"f3bb04cb-8cbd-45b6-8b2c-c3c42a56e9c2\", \"82a24092-4d20-48be-9242-434b5cb13300\", \"02a335f5-ea48-4d29-94b4-e1f50c94eb47\", \"b576d133-59f8-40a3-8e02-8b6007547d34\", \"e54f430b-8cdf-47d7-9c66-8688f32a256f\", \"6e8310f5-0bc6-49dd-b934-06722427b421\", \"06b6f850-b3b6-492b-88a5-214906b71338\", \"ec2b6628-0081-4609-9d84-8fe7e8fe5ee2\", \"9e836fe1-d5a3-4c59-ad7a-1c8a084b6a9b\", \"b93abf59-3591-4921-9695-3cae8898818b\", \"72ebfaa6-fe90-48b9-a2ce-14c8713f542f\", \"8dea43ca-5b46-4d97-8fb1-ea173bc5c5d3\", \"7604aa47-6b24-4615-958b-397ecdc1e5ee\", \"34f3b35d-056e-458e-805d-aa9eddc8fcc9\", \"2e3a8f56-e8a1-4679-9ff6-1720613027d2\", \"76370b7a-c03c-4d59-8dcd-d7e9c0c52f96\", \"1f63a16d-ee0b-496f-a3cc-52eda4f199b1\", \"6b8e3f25-b07a-4cbf-b3ac-e5a9f4e9d75a\", \"e10a4629-75c4-45c9-9ce3-00d7b0f31232\", \"299bd409-a638-4e96-967d-1811b3f0a0ce\", \"99d06cc3-01d5-4ac1-bd89-cceee73864b5\", \"15c78167-3f73-45a1-ac95-f9a426cc1da8\", \"35a15436-ecdd-46f4-8122-7a93d55f8130\", \"71841539-31c0-409d-89f1-cf8ab21edff0\", \"6f7cee54-ce35-4e89-9555-c5fe3faf0dd1\", \"3e267db7-9882-49bf-a98c-6db89d6bda35\", \"07dde26b-a6b4-4758-8f7d-483bb4340a95\", \"c932cbd0-306d-4159-ad30-0cd2ad018ffc\", \"e68b9b17-100e-48c1-84d7-d1a5f9485c1e\", \"d8276edd-e179-4a3e-818c-1f071235dbbd\", \"2f4abf53-ee6c-43d7-82f9-7b5d7a055ff7\", \"c309d2e0-0551-465a-a4e0-ca5e7a59d7f1\", \"aa1ff0a1-1012-420b-9db9-cdf1c988eb54\", \"2e9d7ff3-5614-4a6b-bd9b-6a3c2303bfd1\", \"724c463d-afb5-4ab9-bf70-90505347a10f\", \"3f3383b2-97a7-4db3-9055-ef1190adca92\", \"df3f15b4-15ce-4957-8c30-912eedf71e18\", \"b4be77b4-b2de-4b7a-b0ef-c13194f71569\", \"8ff06795-8e4b-4e60-9a2c-f606b671e5a0\", \"7eed2b0d-dbf7-48fa-b567-301dd124d1df\", \"2cec8163-ac36-45ba-bdf6-ece8372dd44a\", \"e098e982-8a8f-449b-b36b-de20b63a8dc5\", \"7aece4d7-687f-428b-998b-92030e2ea0b5\", \"96ce4701-3f16-47dd-9778-1d8c1eef16e6\", \"9fd06628-d752-410e-b96c-d8a52c5eed17\", \"eec97b50-58e7-41e9-9b53-e192632655c4\", \"b86bdaa4-4707-4b3b-88f4-809f6f985fdb\", \"bc36613c-86ed-42f6-8717-2ba89c9bba7f\", \"017e0e6e-a191-4135-a5f0-07a2819096f5\", \"cea9dd09-9672-4bf5-b093-0227db5b13f0\", \"9a11367a-a2a4-4b38-8bb1-8165f675e8b0\", \"a09c62ad-809b-43c7-bd98-d9162ea3b03e\", \"306b5a13-abdd-4e87-a86c-b67409f5d0ab\", \"5de6ec5d-e824-405d-ab47-bb633f0b30b0\", \"4e2eb376-2f18-4e39-b42e-bd76a829f230\", \"b3f95f3e-50ce-40cf-b5e2-4b4c8ae61982\", \"60151d57-1ae0-48f9-9bd9-2b55e6bf1be1\", \"9dffbfff-2474-4263-8580-6bffc2efe2a4\", \"73520cf6-2bb8-404f-8323-0a37c20c18f9\", \"8e5c3116-fa82-46ee-9f4c-9760d96aea50\", \"e678893f-fadc-4a92-842e-e89534886b9d\", \"921eb010-48e5-4aaf-9497-aff34371f106\", \"c350e8c0-8fcc-4fe0-bc47-51b024fb757a\", \"9699a4fb-9ff5-4a7e-8c53-2d562c9173f1\", \"981e8739-a5e2-4a44-b4e2-c0d4e061ce6d\", \"44768877-bb13-4dd9-90f0-9258cdcb92ca\"]\n",
    "  }\n",
    "}]\n",
    "new_dat = {}\n",
    "for spec in fore_ex_specs:\n",
    "    new_dat[spec['specimens']['id']]= spec['specimens']"
   ]
  },
  {
   "cell_type": "code",
   "execution_count": null,
   "id": "769e97d7",
   "metadata": {},
   "outputs": [],
   "source": [
    "tree = {}\n",
    "for idd, spec in new_dat.items():\n",
    "    if spec['specimen_type']=='sample':\n",
    "        tree[spec['id']] = [] \n",
    "    else:\n",
    "        if spec[\"derived_from_specimen\"] in tree:\n",
    "            tree[spec[\"derived_from_specimen\"]].append(spec['id'])\n",
    "tree"
   ]
  },
  {
   "cell_type": "code",
   "execution_count": null,
   "id": "cec41b95",
   "metadata": {},
   "outputs": [],
   "source": [
    "for sample, aliquots in tree.items():\n",
    "    samp_files = set(new_dat[sample]['Files'])\n",
    "    aliquot_files = []\n",
    "    for aliquot in aliquots:\n",
    "        aliquot_files.extend(new_dat[aliquot]['Files'])\n",
    "    aliquot_files = set(aliquot_files)\n",
    "    if samp_files != aliquot_files:\n",
    "        print(samp_files-aliquot_files)"
   ]
  },
  {
   "cell_type": "code",
   "execution_count": null,
   "id": "ad906525",
   "metadata": {},
   "outputs": [],
   "source": [
    "samp_1_files = set(new_dat['f6cce507-641b-11e8-bcf1-0a2705229b82']['Files'])\n",
    "samp_2_files = set(new_dat['f4af3e4d-641b-11e8-bcf1-0a2705229b82']['Files'])\n",
    "samp_1_files == samp_2_files"
   ]
  },
  {
   "cell_type": "code",
   "execution_count": null,
   "id": "7c3ad322",
   "metadata": {},
   "outputs": [],
   "source": [
    "import requests\n",
    "from string import Template\n",
    "query = \"\"\"{ fileMetadata(file_id: \"c286245c-2fbd-4743-9cd9-eb9c1bbb659a\" acceptDUA: true) {\n",
    "file_id\n",
    "file_name\n",
    "file_location\n",
    "md5sum\n",
    "file_size\n",
    "file_submitter_id\n",
    "data_category\n",
    "file_type\n",
    "file_format\n",
    "experiment_type\n",
    "aliquots {\n",
    "  sample_id\n",
    "  aliquot_id\n",
    "  case_id\n",
    "}\n",
    "}\n",
    "}\"\"\"\n",
    "\n",
    "url = 'https://pdc.cancer.gov/graphql'\n",
    "response = requests.post(url, json={'query': query})\n",
    "\n",
    "if(response.ok):\n",
    "  #If the response was OK then print the returned JSON\n",
    "  jData = json.loads(response.content)\n",
    "\n",
    "  print (json.dumps(jData, indent=4, sort_keys=True))\n",
    "else:\n",
    "  # If response code is not ok (200), print the resulting http error code with description\n",
    "  response.raise_for_status()"
   ]
  },
  {
   "cell_type": "code",
   "execution_count": null,
   "id": "88d724c3",
   "metadata": {},
   "outputs": [],
   "source": [
    "with gzip.open('../data/pdc.files-specimens-cases.json.gz') as pdf:\n",
    "    reader = jsonlines.Reader(pdf)\n",
    "    for f in reader:\n",
    "        if f['file_id'] == \"c286245c-2fbd-4743-9cd9-eb9c1bbb659a\":\n",
    "            print(f)\n",
    "            break\n",
    "            "
   ]
  },
  {
   "cell_type": "code",
   "execution_count": null,
   "id": "0c38bac7",
   "metadata": {},
   "outputs": [],
   "source": [
    "with gzip.open('../pdc.all_files.jsonl.gz') as pdf:\n",
    "    reader = jsonlines.Reader(pdf)\n",
    "    for f in reader:\n",
    "        if f['file_id'] == \"c286245c-2fbd-4743-9cd9-eb9c1bbb659a\":\n",
    "            file_rec = f\n",
    "            break"
   ]
  },
  {
   "cell_type": "code",
   "execution_count": null,
   "id": "03764c72",
   "metadata": {},
   "outputs": [],
   "source": [
    "print(len(file_rec['cases']))"
   ]
  },
  {
   "cell_type": "code",
   "execution_count": null,
   "id": "066979e5",
   "metadata": {},
   "outputs": [],
   "source": [
    "for case in file_rec['cases']:\n",
    "    print(case['case_id'])\n",
    "    "
   ]
  },
  {
   "cell_type": "code",
   "execution_count": null,
   "id": "1d9aa426",
   "metadata": {},
   "outputs": [],
   "source": [
    "cases = []\n",
    "with gzip.open('../pdc.all_cases.jsonl.gz') as pdf:\n",
    "    reader = jsonlines.Reader(pdf)\n",
    "    for f in reader:\n",
    "        if f['case_id'] == \"459e3b69-63d6-11e8-bcf1-0a2705229b82\":\n",
    "            cases.append(f)\n"
   ]
  },
  {
   "cell_type": "code",
   "execution_count": null,
   "id": "686dafc4",
   "metadata": {},
   "outputs": [],
   "source": [
    "samp_files = []\n",
    "for case in cases:\n",
    "    print(case['study'])\n",
    "    for sample in case['samples']:\n",
    "        if sample['sample_id'] != 'f6cce507-641b-11e8-bcf1-0a2705229b82':\n",
    "            for file in sample['files']:\n",
    "                samp_files.append(file['file_id'])\n",
    "            print(list(sample.keys()))\n",
    "    #print(case['samples'])\n",
    "samp_files = set(samp_files)\n",
    "\"c286245c-2fbd-4743-9cd9-eb9c1bbb659a\" in samp_files"
   ]
  },
  {
   "cell_type": "code",
   "execution_count": null,
   "id": "3a45c75e",
   "metadata": {},
   "outputs": [],
   "source": [
    "with open('../files_per_sample_dict.json') as pdf:\n",
    "    files_sample_dict = json.load(pdf)\n",
    "files_sample_dict['f4af3e4d-641b-11e8-bcf1-0a2705229b82']"
   ]
  },
  {
   "cell_type": "code",
   "execution_count": null,
   "id": "751f0687",
   "metadata": {},
   "outputs": [],
   "source": [
    "#samp_files = []\n",
    "with gzip.open('../pdc.all_cases.jsonl.gz') as pdf:\n",
    "    reader = jsonlines.Reader(pdf)\n",
    "    for case in reader:\n",
    "        for sample in case['samples']:\n",
    "            for aliquot in sample['aliquots']:\n",
    "                if aliquot['aliquot_id'] == '4c2b9219-6423-11e8-bcf1-0a2705229b82':\n",
    "                    print(aliquot)\n",
    "            \n",
    "            #for file in sample['files']:\n",
    "            #    samp_files.append(file['file_id'])\n",
    "            #print(sample['sample_id'])\n",
    "    #print(case['samples'])\n",
    "#samp_files = set(samp_files)\n",
    "#\"c286245c-2fbd-4743-9cd9-eb9c1bbb659a\" in samp_files"
   ]
  },
  {
   "cell_type": "code",
   "execution_count": null,
   "id": "98ac0d42",
   "metadata": {},
   "outputs": [],
   "source": [
    "files_sample_dict['4c2b9219-6423-11e8-bcf1-0a2705229b82']"
   ]
  },
  {
   "cell_type": "code",
   "execution_count": null,
   "id": "bee9f4d4",
   "metadata": {},
   "outputs": [],
   "source": [
    "study_files = []\n",
    "with gzip.open('../pdc.all_cases.jsonl.gz') as pdf:\n",
    "    reader = jsonlines.Reader(pdf)\n",
    "    for case in reader:\n",
    "        if case['study']['pdc_study_id']=='PDC000117':\n",
    "            print('found')\n",
    "            for sample in case['samples']:\n",
    "                study_files.extend(sample['files'])\n",
    "            #print(case['samples'])\n",
    "study_files"
   ]
  },
  {
   "cell_type": "code",
   "execution_count": null,
   "id": "258d29d3",
   "metadata": {},
   "outputs": [],
   "source": [
    "study_f_list = []\n",
    "for f in study_files:\n",
    "    study_f_list.append(f['file_id'])\n",
    "study_f_list = set(study_f_list)"
   ]
  },
  {
   "cell_type": "code",
   "execution_count": null,
   "id": "486c3f36",
   "metadata": {},
   "outputs": [],
   "source": [
    "study_f_list"
   ]
  },
  {
   "cell_type": "code",
   "execution_count": null,
   "id": "7c14c96e",
   "metadata": {},
   "outputs": [],
   "source": [
    "len(study_f_list)"
   ]
  },
  {
   "cell_type": "code",
   "execution_count": null,
   "id": "229a6501",
   "metadata": {},
   "outputs": [],
   "source": [
    "count = 0\n",
    "with gzip.open('../pdc.all_cases.jsonl.gz') as pdf:\n",
    "    reader = jsonlines.Reader(pdf)\n",
    "    for case in reader:\n",
    "        count+=1\n",
    "count"
   ]
  },
  {
   "cell_type": "code",
   "execution_count": null,
   "id": "8ee94bd6",
   "metadata": {},
   "outputs": [],
   "source": [
    "count = 0\n",
    "with gzip.open('../pdc.all_cases.H.jsonl.gz') as pdf:\n",
    "    reader = jsonlines.Reader(pdf)\n",
    "    for case in reader:\n",
    "        count+=1\n",
    "count"
   ]
  },
  {
   "cell_type": "code",
   "execution_count": null,
   "id": "dc801845",
   "metadata": {},
   "outputs": [],
   "source": []
  }
 ],
 "metadata": {
  "kernelspec": {
   "display_name": "Python 3 (ipykernel)",
   "language": "python",
   "name": "python3"
  },
  "language_info": {
   "codemirror_mode": {
    "name": "ipython",
    "version": 3
   },
   "file_extension": ".py",
   "mimetype": "text/x-python",
   "name": "python",
   "nbconvert_exporter": "python",
   "pygments_lexer": "ipython3",
   "version": "3.10.2"
  }
 },
 "nbformat": 4,
 "nbformat_minor": 5
}
